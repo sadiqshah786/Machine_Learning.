{
 "cells": [
  {
   "cell_type": "markdown",
   "metadata": {},
   "source": [
    "# Customer Satisfication Clustring"
   ]
  },
  {
   "cell_type": "markdown",
   "metadata": {},
   "source": [
    "**DataSet**  :   [Customer Satisfication](https://drive.google.com/drive/folders/1tgfG8fa0IfvjgIWT8uU08tZG-b8BuLp1)\n",
    "<img src= \"img.gif\"\n",
    "    style=\"width:700px; height:400px; text-align:center\"></img>"
   ]
  },
  {
   "cell_type": "markdown",
   "metadata": {},
   "source": [
    "Context\n",
    "------\n",
    "  - This data set is created only for the  customer satisficaton concepts , also known as customer satisfication analysis .\n",
    "    I will demonstrate this by using unsupervised ML technique (KMode Clustering Algorithm) in the simplest form.\n",
    "\n",
    "Inspiration\n",
    "------------\n",
    "   - How to achieve customer segmentation using machine learning algorithm (KMode Clustering) in Python in simplest way.\n",
    "   - Who are your target customers with whom you can start satisfication strategy easy to converse\n",
    "   - How the satisfication strategy works in real world"
   ]
  },
  {
   "cell_type": "markdown",
   "metadata": {},
   "source": [
    "## Importing Libraries"
   ]
  },
  {
   "cell_type": "markdown",
   "metadata": {},
   "source": [
    "Numpy \n",
    "------\n",
    " - Which is help to use the Numerical calculation\n",
    " \n",
    "Pandas\n",
    "------\n",
    " - Which is help to use the Data clearning and data selection\n",
    "\n",
    "Matplotlib/seaborn\n",
    "------------------\n",
    "  - Which is help to use the ploting the graph"
   ]
  },
  {
   "cell_type": "code",
   "execution_count": 1,
   "metadata": {},
   "outputs": [],
   "source": [
    "import numpy as np\n",
    "import pandas as pd\n",
    "import matplotlib.pyplot as plt\n",
    "import seaborn as sns"
   ]
  },
  {
   "cell_type": "markdown",
   "metadata": {},
   "source": [
    "## Loading Dataset"
   ]
  },
  {
   "cell_type": "code",
   "execution_count": 2,
   "metadata": {},
   "outputs": [],
   "source": [
    "data=pd.read_excel('ClustringAlgo.xlsx')"
   ]
  },
  {
   "cell_type": "code",
   "execution_count": 3,
   "metadata": {},
   "outputs": [
    {
     "data": {
      "text/html": [
       "<div>\n",
       "<style scoped>\n",
       "    .dataframe tbody tr th:only-of-type {\n",
       "        vertical-align: middle;\n",
       "    }\n",
       "\n",
       "    .dataframe tbody tr th {\n",
       "        vertical-align: top;\n",
       "    }\n",
       "\n",
       "    .dataframe thead th {\n",
       "        text-align: right;\n",
       "    }\n",
       "</style>\n",
       "<table border=\"1\" class=\"dataframe\">\n",
       "  <thead>\n",
       "    <tr style=\"text-align: right;\">\n",
       "      <th></th>\n",
       "      <th>A1(Place1)</th>\n",
       "      <th>A1.1(place2)</th>\n",
       "      <th>A2</th>\n",
       "      <th>A3</th>\n",
       "      <th>A4(month)</th>\n",
       "      <th>A5</th>\n",
       "      <th>A6(Convince)</th>\n",
       "      <th>A6.1(TrainCar)</th>\n",
       "      <th>A7(alone)</th>\n",
       "      <th>B1.1(FromFA)</th>\n",
       "      <th>...</th>\n",
       "      <th>M3.2(3-4)</th>\n",
       "      <th>M3.3(5-6)</th>\n",
       "      <th>M3.4(7-8)</th>\n",
       "      <th>M3.5(9-10)</th>\n",
       "      <th>M3.6(11-12)</th>\n",
       "      <th>M3.7(13-14)</th>\n",
       "      <th>M3.8(15-16)</th>\n",
       "      <th>M3.9(17-18)</th>\n",
       "      <th>M3.10(18+)</th>\n",
       "      <th>N1(choice)</th>\n",
       "    </tr>\n",
       "  </thead>\n",
       "  <tbody>\n",
       "    <tr>\n",
       "      <th>0</th>\n",
       "      <td>Other (please specify)</td>\n",
       "      <td>homesick grandchildren, my grandmother lived here</td>\n",
       "      <td>10+</td>\n",
       "      <td>Place 2</td>\n",
       "      <td>July</td>\n",
       "      <td>&gt; 14</td>\n",
       "      <td>Own car</td>\n",
       "      <td>NaN</td>\n",
       "      <td>3</td>\n",
       "      <td>NaN</td>\n",
       "      <td>...</td>\n",
       "      <td>NaN</td>\n",
       "      <td>NaN</td>\n",
       "      <td>NaN</td>\n",
       "      <td>NaN</td>\n",
       "      <td>NaN</td>\n",
       "      <td>13-14 years</td>\n",
       "      <td>NaN</td>\n",
       "      <td>NaN</td>\n",
       "      <td>NaN</td>\n",
       "      <td>8</td>\n",
       "    </tr>\n",
       "    <tr>\n",
       "      <th>1</th>\n",
       "      <td>Other (please specify)</td>\n",
       "      <td>Owner of a vacation rental</td>\n",
       "      <td>3-5x</td>\n",
       "      <td>Place 1</td>\n",
       "      <td>August</td>\n",
       "      <td>&gt; 14</td>\n",
       "      <td>Public transport</td>\n",
       "      <td>NaN</td>\n",
       "      <td>2</td>\n",
       "      <td>NaN</td>\n",
       "      <td>...</td>\n",
       "      <td>NaN</td>\n",
       "      <td>NaN</td>\n",
       "      <td>NaN</td>\n",
       "      <td>NaN</td>\n",
       "      <td>NaN</td>\n",
       "      <td>NaN</td>\n",
       "      <td>NaN</td>\n",
       "      <td>NaN</td>\n",
       "      <td>18+ years</td>\n",
       "      <td>NaN</td>\n",
       "    </tr>\n",
       "    <tr>\n",
       "      <th>2</th>\n",
       "      <td>Other (please specify)</td>\n",
       "      <td>Overnight guest with family members</td>\n",
       "      <td>1x</td>\n",
       "      <td>Place 2</td>\n",
       "      <td>August</td>\n",
       "      <td>&gt; 14</td>\n",
       "      <td>Own car</td>\n",
       "      <td>NaN</td>\n",
       "      <td>Alone</td>\n",
       "      <td>NaN</td>\n",
       "      <td>...</td>\n",
       "      <td>NaN</td>\n",
       "      <td>NaN</td>\n",
       "      <td>NaN</td>\n",
       "      <td>NaN</td>\n",
       "      <td>NaN</td>\n",
       "      <td>NaN</td>\n",
       "      <td>NaN</td>\n",
       "      <td>NaN</td>\n",
       "      <td>18+ years</td>\n",
       "      <td>Most likely</td>\n",
       "    </tr>\n",
       "    <tr>\n",
       "      <th>3</th>\n",
       "      <td>Other (please specify)</td>\n",
       "      <td>clinic</td>\n",
       "      <td>10+</td>\n",
       "      <td>Place 1</td>\n",
       "      <td>July</td>\n",
       "      <td>&gt; 14</td>\n",
       "      <td>Own car</td>\n",
       "      <td>NaN</td>\n",
       "      <td>Alone</td>\n",
       "      <td>NaN</td>\n",
       "      <td>...</td>\n",
       "      <td>NaN</td>\n",
       "      <td>NaN</td>\n",
       "      <td>NaN</td>\n",
       "      <td>NaN</td>\n",
       "      <td>NaN</td>\n",
       "      <td>NaN</td>\n",
       "      <td>NaN</td>\n",
       "      <td>NaN</td>\n",
       "      <td>18+ years</td>\n",
       "      <td>Most likely</td>\n",
       "    </tr>\n",
       "    <tr>\n",
       "      <th>4</th>\n",
       "      <td>Other (please specify)</td>\n",
       "      <td>worked here for 3 1/2 years</td>\n",
       "      <td>10+</td>\n",
       "      <td>Place 1</td>\n",
       "      <td>August</td>\n",
       "      <td>3</td>\n",
       "      <td>Own car</td>\n",
       "      <td>NaN</td>\n",
       "      <td>Alone</td>\n",
       "      <td>NaN</td>\n",
       "      <td>...</td>\n",
       "      <td>NaN</td>\n",
       "      <td>NaN</td>\n",
       "      <td>NaN</td>\n",
       "      <td>NaN</td>\n",
       "      <td>NaN</td>\n",
       "      <td>NaN</td>\n",
       "      <td>NaN</td>\n",
       "      <td>NaN</td>\n",
       "      <td>NaN</td>\n",
       "      <td>Most likely</td>\n",
       "    </tr>\n",
       "  </tbody>\n",
       "</table>\n",
       "<p>5 rows × 145 columns</p>\n",
       "</div>"
      ],
      "text/plain": [
       "               A1(Place1)                                       A1.1(place2)  \\\n",
       "0  Other (please specify)  homesick grandchildren, my grandmother lived here   \n",
       "1  Other (please specify)                         Owner of a vacation rental   \n",
       "2  Other (please specify)                Overnight guest with family members   \n",
       "3  Other (please specify)                                             clinic   \n",
       "4  Other (please specify)                        worked here for 3 1/2 years   \n",
       "\n",
       "     A2       A3 A4(month)    A5      A6(Convince) A6.1(TrainCar) A7(alone)  \\\n",
       "0   10+  Place 2      July  > 14           Own car            NaN         3   \n",
       "1  3-5x  Place 1    August  > 14  Public transport            NaN         2   \n",
       "2    1x  Place 2    August  > 14           Own car            NaN     Alone   \n",
       "3   10+  Place 1      July  > 14           Own car            NaN     Alone   \n",
       "4   10+  Place 1    August     3           Own car            NaN     Alone   \n",
       "\n",
       "  B1.1(FromFA)  ... M3.2(3-4) M3.3(5-6) M3.4(7-8) M3.5(9-10) M3.6(11-12)  \\\n",
       "0          NaN  ...       NaN       NaN       NaN        NaN         NaN   \n",
       "1          NaN  ...       NaN       NaN       NaN        NaN         NaN   \n",
       "2          NaN  ...       NaN       NaN       NaN        NaN         NaN   \n",
       "3          NaN  ...       NaN       NaN       NaN        NaN         NaN   \n",
       "4          NaN  ...       NaN       NaN       NaN        NaN         NaN   \n",
       "\n",
       "   M3.7(13-14) M3.8(15-16) M3.9(17-18) M3.10(18+)   N1(choice)  \n",
       "0  13-14 years         NaN         NaN        NaN            8  \n",
       "1          NaN         NaN         NaN  18+ years          NaN  \n",
       "2          NaN         NaN         NaN  18+ years  Most likely  \n",
       "3          NaN         NaN         NaN  18+ years  Most likely  \n",
       "4          NaN         NaN         NaN        NaN  Most likely  \n",
       "\n",
       "[5 rows x 145 columns]"
      ]
     },
     "execution_count": 3,
     "metadata": {},
     "output_type": "execute_result"
    }
   ],
   "source": [
    "data.head()"
   ]
  },
  {
   "cell_type": "markdown",
   "metadata": {},
   "source": [
    "### Row and Columns"
   ]
  },
  {
   "cell_type": "code",
   "execution_count": 4,
   "metadata": {},
   "outputs": [
    {
     "data": {
      "text/plain": [
       "(279, 145)"
      ]
     },
     "execution_count": 4,
     "metadata": {},
     "output_type": "execute_result"
    }
   ],
   "source": [
    "data.shape"
   ]
  },
  {
   "cell_type": "markdown",
   "metadata": {},
   "source": [
    "## Statistical Values"
   ]
  },
  {
   "cell_type": "code",
   "execution_count": 5,
   "metadata": {},
   "outputs": [
    {
     "data": {
      "text/html": [
       "<div>\n",
       "<style scoped>\n",
       "    .dataframe tbody tr th:only-of-type {\n",
       "        vertical-align: middle;\n",
       "    }\n",
       "\n",
       "    .dataframe tbody tr th {\n",
       "        vertical-align: top;\n",
       "    }\n",
       "\n",
       "    .dataframe thead th {\n",
       "        text-align: right;\n",
       "    }\n",
       "</style>\n",
       "<table border=\"1\" class=\"dataframe\">\n",
       "  <thead>\n",
       "    <tr style=\"text-align: right;\">\n",
       "      <th></th>\n",
       "      <th>B1.7</th>\n",
       "      <th>I1</th>\n",
       "      <th>J1</th>\n",
       "      <th>M2</th>\n",
       "    </tr>\n",
       "  </thead>\n",
       "  <tbody>\n",
       "    <tr>\n",
       "      <th>count</th>\n",
       "      <td>0.0</td>\n",
       "      <td>232.000000</td>\n",
       "      <td>232.000000</td>\n",
       "      <td>125.000000</td>\n",
       "    </tr>\n",
       "    <tr>\n",
       "      <th>mean</th>\n",
       "      <td>NaN</td>\n",
       "      <td>50.258621</td>\n",
       "      <td>1.323276</td>\n",
       "      <td>0.792000</td>\n",
       "    </tr>\n",
       "    <tr>\n",
       "      <th>std</th>\n",
       "      <td>NaN</td>\n",
       "      <td>37.073490</td>\n",
       "      <td>0.723012</td>\n",
       "      <td>1.034065</td>\n",
       "    </tr>\n",
       "    <tr>\n",
       "      <th>min</th>\n",
       "      <td>NaN</td>\n",
       "      <td>16.000000</td>\n",
       "      <td>1.000000</td>\n",
       "      <td>0.000000</td>\n",
       "    </tr>\n",
       "    <tr>\n",
       "      <th>25%</th>\n",
       "      <td>NaN</td>\n",
       "      <td>36.750000</td>\n",
       "      <td>1.000000</td>\n",
       "      <td>0.000000</td>\n",
       "    </tr>\n",
       "    <tr>\n",
       "      <th>50%</th>\n",
       "      <td>NaN</td>\n",
       "      <td>49.000000</td>\n",
       "      <td>1.000000</td>\n",
       "      <td>0.000000</td>\n",
       "    </tr>\n",
       "    <tr>\n",
       "      <th>75%</th>\n",
       "      <td>NaN</td>\n",
       "      <td>59.000000</td>\n",
       "      <td>2.000000</td>\n",
       "      <td>2.000000</td>\n",
       "    </tr>\n",
       "    <tr>\n",
       "      <th>max</th>\n",
       "      <td>NaN</td>\n",
       "      <td>561.000000</td>\n",
       "      <td>7.000000</td>\n",
       "      <td>4.000000</td>\n",
       "    </tr>\n",
       "  </tbody>\n",
       "</table>\n",
       "</div>"
      ],
      "text/plain": [
       "       B1.7          I1          J1          M2\n",
       "count   0.0  232.000000  232.000000  125.000000\n",
       "mean    NaN   50.258621    1.323276    0.792000\n",
       "std     NaN   37.073490    0.723012    1.034065\n",
       "min     NaN   16.000000    1.000000    0.000000\n",
       "25%     NaN   36.750000    1.000000    0.000000\n",
       "50%     NaN   49.000000    1.000000    0.000000\n",
       "75%     NaN   59.000000    2.000000    2.000000\n",
       "max     NaN  561.000000    7.000000    4.000000"
      ]
     },
     "execution_count": 5,
     "metadata": {},
     "output_type": "execute_result"
    }
   ],
   "source": [
    "data.describe()"
   ]
  },
  {
   "cell_type": "markdown",
   "metadata": {},
   "source": [
    "## Type cast of data columns"
   ]
  },
  {
   "cell_type": "code",
   "execution_count": 6,
   "metadata": {},
   "outputs": [
    {
     "name": "stdout",
     "output_type": "stream",
     "text": [
      "<class 'pandas.core.frame.DataFrame'>\n",
      "RangeIndex: 279 entries, 0 to 278\n",
      "Columns: 145 entries, A1(Place1) to N1(choice)\n",
      "dtypes: float64(4), object(141)\n",
      "memory usage: 316.2+ KB\n"
     ]
    }
   ],
   "source": [
    "data.info()"
   ]
  },
  {
   "cell_type": "markdown",
   "metadata": {},
   "source": [
    "# Data Preprocessing\n",
    "-----------------------------------------"
   ]
  },
  {
   "cell_type": "markdown",
   "metadata": {},
   "source": [
    "## Data Cleaning\n",
    "---------------------------------\n",
    "- Dataset have many null values before to clustring we have to clean the data\n",
    "so method i used replace all null value with its mode"
   ]
  },
  {
   "cell_type": "code",
   "execution_count": 7,
   "metadata": {},
   "outputs": [],
   "source": [
    "\n",
    "for i in ['M3.1(1-2)', 'M3.2(3-4)','M3.3(5-6)','M3.4(7-8)','M3.5(9-10)','M3.6(11-12)','M3.7(13-14)',\n",
    "          'M3.8(15-16)','M3.9(17-18)','M3.10(18+)','A1(Place1)', 'A1.1(place2)','A6(Convince)','A4(month)','A6.1(TrainCar)',\n",
    "          'B7(Used)' , 'B8.1(fb)','B8.2(Insta)','B8.3(tiktok)','B8.4(SnapChat)','B8.5(Pinterest)','B8.6(Twitter)','B8.7(Likedin)',\n",
    "          'B9(YN)','C1(Program2)','C1.1(Program)','A7(alone)','B1.2(FromF)','B1.3(Website)','B1.4(SM)','N1(choice)',\n",
    "         'B1.9(habbits)','B2.1(ViaFA)','B2.2(Viaf)','B2.3(ViaSE)','B2.4(Via Web)',\n",
    "          'B2.5(ViaPropWeb)','B2.6(Viaapp)','B2.7(Viarateweb)','B2.8(ViatourPortal)','B2.9(TouristOff)','B2.10(ViaNewSettler)'\n",
    "          ,'B2.11(ViaSM)','B3(Accessories)','B4(Con)','B5.1(Acc)','B5.2(tickets)','B5.3(SummProg)','B5.4(SportShop)'\n",
    "          ,'B5.5(Transport)','B5.6(Activities)','B5.7(Resturant)','B5.8(EventTicket)','B5.9(ParticipentInEvent)'\n",
    "          ,'B6.1(TOffGuest)','B6.2(ISP)','B6.3(LPC)','B6.4(Accomodation)','B6.5(MountainRail)','B6.6(ProviderAct)',\n",
    "          'B6.7(PrintMap)','B6.8(brochures)','B6.9(DestinationApp)','B6.10(thirdPartApp)','B6.11(InfoTV)','B6.12(app)',\n",
    "          'L1(Status)','H1(Gender)']:\n",
    "    data[i] = data[i].fillna(data[i].mode()[0])\n",
    "    \n",
    "for i in ['I1','J1','M2']:\n",
    "     data[i] = data[i].fillna(data[i].median())\n",
    "    \n",
    "\n",
    "data['B1.7']=data.drop(['B1.7'], axis=1,inplace=True)\n",
    "data['B1.7']=data.drop(['B1.7'], axis=1,inplace=True)"
   ]
  },
  {
   "cell_type": "markdown",
   "metadata": {},
   "source": [
    "# EDA - Exploratory Data Analysis"
   ]
  },
  {
   "cell_type": "markdown",
   "metadata": {},
   "source": [
    "### Number of Male and Female "
   ]
  },
  {
   "cell_type": "code",
   "execution_count": 192,
   "metadata": {},
   "outputs": [
    {
     "data": {
      "image/png": "[encoded data removed]",
      "text/plain": [
       "<Figure size 432x360 with 1 Axes>"
      ]
     },
     "metadata": {
      "needs_background": "light"
     },
     "output_type": "display_data"
    }
   ],
   "source": [
    "plt.figure(figsize=(6,5))\n",
    "plt.title('Number of Male and Female\\n',fontsize=18)\n",
    "plt.xlabel(\"Gender\\n\",fontsize=15)\n",
    "plt.ylabel(\"Quantity\\n\",fontsize=15)\n",
    "data['H1(Gender)'].value_counts().plot(kind='bar',color='mediumpurple')\n",
    "plt.rc('xtick', labelsize=13) \n",
    "plt.rc('xtick', labelsize=12) \n",
    "\n",
    "\n",
    "plt.grid()"
   ]
  },
  {
   "cell_type": "markdown",
   "metadata": {},
   "source": [
    "# By Channel Satisfication"
   ]
  },
  {
   "cell_type": "code",
   "execution_count": 190,
   "metadata": {},
   "outputs": [
    {
     "data": {
      "image/png": "[encoded data removed]",
      "text/plain": [
       "<Figure size 720x720 with 4 Axes>"
      ]
     },
     "metadata": {
      "needs_background": "light"
     },
     "output_type": "display_data"
    }
   ],
   "source": [
    "fig,axs = plt.subplots(2, 2, figsize=(10, 10))\n",
    "axs[0, 0].hist(data['B8.1(fb)'],color='lightseagreen')\n",
    "axs[0, 1].hist(data['B8.2(Insta)'],color='darkorange')\n",
    "axs[1, 0].hist(data['B8.3(tiktok)'],color='darkorange')\n",
    "axs[1, 1].hist(data['B8.4(SnapChat)'],color='lightseagreen')\n",
    "plt.rc('xtick', labelsize=13) \n",
    "plt.rc('xtick', labelsize=12) \n",
    "plt.show()"
   ]
  },
  {
   "cell_type": "markdown",
   "metadata": {},
   "source": [
    "## Convince Using Male and Female Mostly "
   ]
  },
  {
   "cell_type": "code",
   "execution_count": 186,
   "metadata": {},
   "outputs": [
    {
     "data": {
      "image/png": "[encoded data removed]",
      "text/plain": [
       "<Figure size 432x360 with 1 Axes>"
      ]
     },
     "metadata": {
      "needs_background": "light"
     },
     "output_type": "display_data"
    }
   ],
   "source": [
    "plt.figure(figsize=(6,5))\n",
    "plt.title('Customer Convince\\n',fontsize=18)\n",
    "plt.xlabel(\"Quantity\\n\\n\",fontsize=15)\n",
    "data.groupby(data['H1(Gender)'])['A6(Convince)'].value_counts().plot(kind='barh',color='greenyellow')\n",
    "plt.rc('xtick', labelsize=13) \n",
    "plt.rc('xtick', labelsize=12) \n",
    "\n",
    "\n",
    "plt.grid()"
   ]
  },
  {
   "cell_type": "markdown",
   "metadata": {},
   "source": [
    "## Hikers Seekers - Male/Female"
   ]
  },
  {
   "cell_type": "code",
   "execution_count": 194,
   "metadata": {},
   "outputs": [
    {
     "data": {
      "image/png": "[encoded data removed]",
      "text/plain": [
       "<Figure size 720x360 with 1 Axes>"
      ]
     },
     "metadata": {
      "needs_background": "light"
     },
     "output_type": "display_data"
    }
   ],
   "source": [
    "plt.figure(figsize=(10,5))\n",
    "plt.title('Hikers Seekers - Male/Female\\n',fontsize=18)\n",
    "plt.xlabel(\"Quantity\\n\",fontsize=15)\n",
    "data.groupby(data['F1(MonFor)'])['H1(Gender)'].value_counts().plot(kind='barh',color='lightseagreen')\n",
    "plt.rc('xtick', labelsize=13) \n",
    "plt.rc('xtick', labelsize=12) \n",
    "\n",
    "\n",
    "plt.grid()"
   ]
  },
  {
   "cell_type": "markdown",
   "metadata": {},
   "source": [
    "## RelationShip Status"
   ]
  },
  {
   "cell_type": "code",
   "execution_count": 196,
   "metadata": {},
   "outputs": [
    {
     "data": {
      "image/png": "[encoded data removed]",
      "text/plain": [
       "<Figure size 720x360 with 1 Axes>"
      ]
     },
     "metadata": {
      "needs_background": "light"
     },
     "output_type": "display_data"
    }
   ],
   "source": [
    "plt.figure(figsize=(10,5))\n",
    "plt.title('RelationShip Status\\n',fontsize=18)\n",
    "plt.ylabel(\"Status\\n\",fontsize=15)\n",
    "plt.xlabel(\"Quantity\\n\",fontsize=15)\n",
    "data['L1(Status)'].value_counts().plot(kind='barh',color='orange')\n",
    "plt.rc('xtick', labelsize=13) \n",
    "plt.rc('xtick', labelsize=12) \n",
    "\n",
    "\n",
    "plt.grid()"
   ]
  },
  {
   "cell_type": "markdown",
   "metadata": {},
   "source": [
    "# Using K-Mode Clustring\n",
    "-------------------------------------------\n",
    "   k-modes is used for clustering categorical variables. It defines clusters based on the number of matching categories between   data points. (This is in contrast to the more well-known k-means algorithm, which clusters numerical data based on Euclidean   distance.) The k-prototypes algorithm combines k-modes and k-means and is able to cluster mixed numerical / categorical data.\n",
    "   \n",
    "   Two Method have used:\n",
    "   - Huang\n",
    "   - Cao   \n",
    "   \n",
    "   \n",
    "   Libary Used:\n",
    "   ---------------\n",
    "   - from kmodes.kmodes import KModes\n",
    "   \n",
    "   \n",
    "   Description and Work of K-mode Clustring analysis\n",
    "   -------------------------------------------------------------------------\n",
    " \n",
    "- K-mode clustering is one of the simplest and popular unsupervised machine learning algorithms.Typically, unsupervised algorithms make inferences from datasets using only input vectors without referring to known, or labelled, outcomes.\n",
    "\n",
    "- A cluster refers to a collection of data points aggregated together because of certain similarities.\n",
    "\n",
    "- You’ll define a target number k, which refers to the number of centroids you need in the dataset. A centroid is the imaginary   or real location representing the center of the cluster.\n",
    "\n",
    "- Every data point is allocated to each of the clusters through reducing the in-cluster sum of squares.\n",
    "\n",
    "- In other words, the K-mode algorithm identifies k number of centroids, and then allocates every data point to the nearest cluster, while keeping the centroids as small as possible.\n",
    "\n",
    "- The ‘mode’ in the K-mode refers to highes to lowest of the data; that is, finding the centroid.\n",
    "\n",
    "- How the K-mode algorithm works\n",
    "\n",
    "- To process the learning data, the K-mode algorithm in data mining starts with a first group of randomly selected centroids,    which are used as the beginning points for every cluster, and then performs iterative (repetitive) calculations to optimize the positions of the centroids\n",
    "\n",
    "- It halts creating and optimizing clusters when either:\n",
    "\n",
    "  The centroids have stabilized — there is no change in their values because the clustering has been successful. The defined   number of iterations has been achieved.\n",
    "\n"
   ]
  },
  {
   "cell_type": "markdown",
   "metadata": {},
   "source": [
    "Insights\n",
    "-------------\n",
    " - Customer Level Satisfication\n",
    " - Customer Channel Satisfication"
   ]
  },
  {
   "cell_type": "markdown",
   "metadata": {},
   "source": [
    "##  1. Customer level Satisfication\n",
    "\n",
    "    cluster 1 - Gender of the customers\n",
    "    cluster 2 - What convience Customer mosly used\n",
    "    Cluster 3 - Which month mostly used own car or public transport\n",
    "    cluster 4 - The life status married , single , divoced\n",
    "    cluster 5 - Where they stay \n",
    "    cluster 6 - Which accessories most used Laptop , PC , Smart Phone\n"
   ]
  },
  {
   "cell_type": "code",
   "execution_count": 159,
   "metadata": {},
   "outputs": [],
   "source": [
    "Customer_Used = data[['A6(Convince)','A4(month)', 'H1(Gender)', 'L1(Status)', 'A1(Place1)','B3(Accessories)']]"
   ]
  },
  {
   "cell_type": "markdown",
   "metadata": {},
   "source": [
    "Label Encoding\n",
    "---------------\n",
    "- Which is used to convert the categorical data into label encoding"
   ]
  },
  {
   "cell_type": "code",
   "execution_count": 160,
   "metadata": {},
   "outputs": [
    {
     "data": {
      "text/html": [
       "<div>\n",
       "<style scoped>\n",
       "    .dataframe tbody tr th:only-of-type {\n",
       "        vertical-align: middle;\n",
       "    }\n",
       "\n",
       "    .dataframe tbody tr th {\n",
       "        vertical-align: top;\n",
       "    }\n",
       "\n",
       "    .dataframe thead th {\n",
       "        text-align: right;\n",
       "    }\n",
       "</style>\n",
       "<table border=\"1\" class=\"dataframe\">\n",
       "  <thead>\n",
       "    <tr style=\"text-align: right;\">\n",
       "      <th></th>\n",
       "      <th>A6(Convince)</th>\n",
       "      <th>A4(month)</th>\n",
       "      <th>H1(Gender)</th>\n",
       "      <th>L1(Status)</th>\n",
       "      <th>A1(Place1)</th>\n",
       "      <th>B3(Accessories)</th>\n",
       "    </tr>\n",
       "  </thead>\n",
       "  <tbody>\n",
       "    <tr>\n",
       "      <th>0</th>\n",
       "      <td>1</td>\n",
       "      <td>1</td>\n",
       "      <td>0</td>\n",
       "      <td>2</td>\n",
       "      <td>2</td>\n",
       "      <td>0</td>\n",
       "    </tr>\n",
       "    <tr>\n",
       "      <th>1</th>\n",
       "      <td>2</td>\n",
       "      <td>0</td>\n",
       "      <td>1</td>\n",
       "      <td>4</td>\n",
       "      <td>2</td>\n",
       "      <td>0</td>\n",
       "    </tr>\n",
       "    <tr>\n",
       "      <th>2</th>\n",
       "      <td>1</td>\n",
       "      <td>0</td>\n",
       "      <td>1</td>\n",
       "      <td>0</td>\n",
       "      <td>2</td>\n",
       "      <td>0</td>\n",
       "    </tr>\n",
       "    <tr>\n",
       "      <th>3</th>\n",
       "      <td>1</td>\n",
       "      <td>1</td>\n",
       "      <td>1</td>\n",
       "      <td>2</td>\n",
       "      <td>2</td>\n",
       "      <td>0</td>\n",
       "    </tr>\n",
       "    <tr>\n",
       "      <th>4</th>\n",
       "      <td>1</td>\n",
       "      <td>0</td>\n",
       "      <td>0</td>\n",
       "      <td>3</td>\n",
       "      <td>2</td>\n",
       "      <td>2</td>\n",
       "    </tr>\n",
       "  </tbody>\n",
       "</table>\n",
       "</div>"
      ],
      "text/plain": [
       "   A6(Convince)  A4(month)  H1(Gender)  L1(Status)  A1(Place1)  \\\n",
       "0             1          1           0           2           2   \n",
       "1             2          0           1           4           2   \n",
       "2             1          0           1           0           2   \n",
       "3             1          1           1           2           2   \n",
       "4             1          0           0           3           2   \n",
       "\n",
       "   B3(Accessories)  \n",
       "0                0  \n",
       "1                0  \n",
       "2                0  \n",
       "3                0  \n",
       "4                2  "
      ]
     },
     "execution_count": 160,
     "metadata": {},
     "output_type": "execute_result"
    }
   ],
   "source": [
    "from sklearn import preprocessing\n",
    "le = preprocessing.LabelEncoder()\n",
    "Customer_Used = Customer_Used.apply(le.fit_transform)\n",
    "Customer_Used.head()"
   ]
  },
  {
   "cell_type": "markdown",
   "metadata": {},
   "source": [
    "Importing Module\n",
    "---------------\n",
    "- KMode Library of Sklearn"
   ]
  },
  {
   "cell_type": "code",
   "execution_count": 161,
   "metadata": {},
   "outputs": [],
   "source": [
    "from kmodes.kmodes import KModes"
   ]
  },
  {
   "cell_type": "markdown",
   "metadata": {},
   "source": [
    "### Using K-Mode with \"Cao\" initialization\n",
    "------------------------------------------------------\n",
    "- n_cluster : The number of clusters to form as well as the number of centroids to generate.\n",
    "- n_init Number of time the k-means algorithm will be run with different centroid seeds\n",
    "- verbose: Verbosity mode"
   ]
  },
  {
   "cell_type": "markdown",
   "metadata": {},
   "source": [
    "### Choosing k = 1  \n",
    "---------------------------\n",
    " - Number of Cluster 1"
   ]
  },
  {
   "cell_type": "code",
   "execution_count": 162,
   "metadata": {},
   "outputs": [
    {
     "name": "stdout",
     "output_type": "stream",
     "text": [
      "Init: initializing centroids\n",
      "Init: initializing clusters\n",
      "Starting iterations...\n",
      "Run 1, iteration: 1/100, moves: 0, cost: 715.0\n"
     ]
    }
   ],
   "source": [
    "km_cao = KModes(n_clusters=1, init = \"Cao\", n_init = 1, verbose=1)\n",
    "fitClusters_cao = km_cao.fit_predict(Customer_Used)"
   ]
  },
  {
   "cell_type": "markdown",
   "metadata": {},
   "source": [
    "### Predicted Clusters"
   ]
  },
  {
   "cell_type": "code",
   "execution_count": 163,
   "metadata": {},
   "outputs": [
    {
     "data": {
      "text/plain": [
       "array([0, 0, 0, 0, 0, 0, 0, 0, 0, 0, 0, 0, 0, 0, 0, 0, 0, 0, 0, 0, 0, 0,\n",
       "       0, 0, 0, 0, 0, 0, 0, 0, 0, 0, 0, 0, 0, 0, 0, 0, 0, 0, 0, 0, 0, 0,\n",
       "       0, 0, 0, 0, 0, 0, 0, 0, 0, 0, 0, 0, 0, 0, 0, 0, 0, 0, 0, 0, 0, 0,\n",
       "       0, 0, 0, 0, 0, 0, 0, 0, 0, 0, 0, 0, 0, 0, 0, 0, 0, 0, 0, 0, 0, 0,\n",
       "       0, 0, 0, 0, 0, 0, 0, 0, 0, 0, 0, 0, 0, 0, 0, 0, 0, 0, 0, 0, 0, 0,\n",
       "       0, 0, 0, 0, 0, 0, 0, 0, 0, 0, 0, 0, 0, 0, 0, 0, 0, 0, 0, 0, 0, 0,\n",
       "       0, 0, 0, 0, 0, 0, 0, 0, 0, 0, 0, 0, 0, 0, 0, 0, 0, 0, 0, 0, 0, 0,\n",
       "       0, 0, 0, 0, 0, 0, 0, 0, 0, 0, 0, 0, 0, 0, 0, 0, 0, 0, 0, 0, 0, 0,\n",
       "       0, 0, 0, 0, 0, 0, 0, 0, 0, 0, 0, 0, 0, 0, 0, 0, 0, 0, 0, 0, 0, 0,\n",
       "       0, 0, 0, 0, 0, 0, 0, 0, 0, 0, 0, 0, 0, 0, 0, 0, 0, 0, 0, 0, 0, 0,\n",
       "       0, 0, 0, 0, 0, 0, 0, 0, 0, 0, 0, 0, 0, 0, 0, 0, 0, 0, 0, 0, 0, 0,\n",
       "       0, 0, 0, 0, 0, 0, 0, 0, 0, 0, 0, 0, 0, 0, 0, 0, 0, 0, 0, 0, 0, 0,\n",
       "       0, 0, 0, 0, 0, 0, 0, 0, 0, 0, 0, 0, 0, 0, 0], dtype=uint16)"
      ]
     },
     "execution_count": 163,
     "metadata": {},
     "output_type": "execute_result"
    }
   ],
   "source": [
    "fitClusters_cao"
   ]
  },
  {
   "cell_type": "markdown",
   "metadata": {},
   "source": [
    "###  Mode of the clusters"
   ]
  },
  {
   "cell_type": "code",
   "execution_count": 164,
   "metadata": {},
   "outputs": [],
   "source": [
    "clusterCentroidsDf = pd.DataFrame(km_cao.cluster_centroids_)\n",
    "clusterCentroidsDf.columns = Customer_Used.columns"
   ]
  },
  {
   "cell_type": "code",
   "execution_count": 165,
   "metadata": {},
   "outputs": [
    {
     "data": {
      "text/html": [
       "<div>\n",
       "<style scoped>\n",
       "    .dataframe tbody tr th:only-of-type {\n",
       "        vertical-align: middle;\n",
       "    }\n",
       "\n",
       "    .dataframe tbody tr th {\n",
       "        vertical-align: top;\n",
       "    }\n",
       "\n",
       "    .dataframe thead th {\n",
       "        text-align: right;\n",
       "    }\n",
       "</style>\n",
       "<table border=\"1\" class=\"dataframe\">\n",
       "  <thead>\n",
       "    <tr style=\"text-align: right;\">\n",
       "      <th></th>\n",
       "      <th>A6(Convince)</th>\n",
       "      <th>A4(month)</th>\n",
       "      <th>H1(Gender)</th>\n",
       "      <th>L1(Status)</th>\n",
       "      <th>A1(Place1)</th>\n",
       "      <th>B3(Accessories)</th>\n",
       "    </tr>\n",
       "  </thead>\n",
       "  <tbody>\n",
       "    <tr>\n",
       "      <th>0</th>\n",
       "      <td>1</td>\n",
       "      <td>1</td>\n",
       "      <td>1</td>\n",
       "      <td>2</td>\n",
       "      <td>6</td>\n",
       "      <td>0</td>\n",
       "    </tr>\n",
       "  </tbody>\n",
       "</table>\n",
       "</div>"
      ],
      "text/plain": [
       "   A6(Convince)  A4(month)  H1(Gender)  L1(Status)  A1(Place1)  \\\n",
       "0             1          1           1           2           6   \n",
       "\n",
       "   B3(Accessories)  \n",
       "0                0  "
      ]
     },
     "execution_count": 165,
     "metadata": {},
     "output_type": "execute_result"
    }
   ],
   "source": [
    "clusterCentroidsDf"
   ]
  },
  {
   "cell_type": "markdown",
   "metadata": {},
   "source": [
    "### Cluster Costs"
   ]
  },
  {
   "cell_type": "code",
   "execution_count": 166,
   "metadata": {},
   "outputs": [
    {
     "name": "stdout",
     "output_type": "stream",
     "text": [
      "Init: initializing centroids\n",
      "Init: initializing clusters\n",
      "Starting iterations...\n",
      "Run 1, iteration: 1/100, moves: 0, cost: 715.0\n",
      "Init: initializing centroids\n",
      "Init: initializing clusters\n",
      "Starting iterations...\n",
      "Run 1, iteration: 1/100, moves: 0, cost: 619.0\n",
      "Init: initializing centroids\n",
      "Init: initializing clusters\n",
      "Starting iterations...\n",
      "Run 1, iteration: 1/100, moves: 0, cost: 583.0\n",
      "Init: initializing centroids\n",
      "Init: initializing clusters\n",
      "Starting iterations...\n",
      "Run 1, iteration: 1/100, moves: 0, cost: 540.0\n"
     ]
    }
   ],
   "source": [
    "cost = []\n",
    "for num_clusters in list(range(1,5)):\n",
    "    kmode = KModes(n_clusters=num_clusters, init = \"Cao\", n_init = 1, verbose=1)\n",
    "    kmode.fit_predict(Coustomer_Used)\n",
    "    cost.append(kmode.cost_)"
   ]
  },
  {
   "cell_type": "markdown",
   "metadata": {},
   "source": [
    "### Visualization the plot of cost of cluster"
   ]
  },
  {
   "cell_type": "code",
   "execution_count": 201,
   "metadata": {},
   "outputs": [
    {
     "data": {
      "image/png": "[encoded data removed]",
      "text/plain": [
       "<Figure size 432x288 with 1 Axes>"
      ]
     },
     "metadata": {
      "needs_background": "light"
     },
     "output_type": "display_data"
    }
   ],
   "source": [
    "y = np.array([i for i in range(1,5,1)])\n",
    "plt.plot(y,cost,color='coral',linewidth=3)\n",
    "plt.title(\"COst of the CLuster\\n\",fontsize=15)\n",
    "plt.xlabel(\"Range of the clusters\\n\",fontsize=13)\n",
    "plt.ylabel(\"Cost of Clusters\\n\",fontsize=13)\n",
    "plt.show()"
   ]
  },
  {
   "cell_type": "markdown",
   "metadata": {},
   "source": [
    "### Choosing K=2\n",
    "----------------------\n",
    "- Number of Cluster 2"
   ]
  },
  {
   "cell_type": "code",
   "execution_count": 168,
   "metadata": {},
   "outputs": [
    {
     "name": "stdout",
     "output_type": "stream",
     "text": [
      "Init: initializing centroids\n",
      "Init: initializing clusters\n",
      "Starting iterations...\n",
      "Run 1, iteration: 1/100, moves: 0, cost: 619.0\n"
     ]
    }
   ],
   "source": [
    "km_cao = KModes(n_clusters=2, init = \"Cao\", n_init = 1, verbose=1)\n",
    "fitClusters_cao = km_cao.fit_predict(Coustomer_Used)\n"
   ]
  },
  {
   "cell_type": "markdown",
   "metadata": {},
   "source": [
    "### Prediected Clusters "
   ]
  },
  {
   "cell_type": "code",
   "execution_count": 169,
   "metadata": {},
   "outputs": [
    {
     "data": {
      "text/plain": [
       "array([0, 0, 0, 0, 1, 0, 0, 0, 0, 0, 0, 0, 0, 0, 1, 0, 0, 0, 1, 0, 0, 1,\n",
       "       0, 1, 0, 0, 0, 0, 0, 0, 0, 0, 0, 1, 0, 1, 0, 0, 0, 0, 1, 1, 0, 0,\n",
       "       1, 1, 0, 0, 0, 0, 0, 0, 0, 0, 0, 0, 0, 0, 0, 0, 0, 1, 0, 0, 0, 0,\n",
       "       0, 0, 0, 0, 0, 1, 0, 0, 0, 0, 0, 0, 0, 0, 0, 0, 0, 0, 0, 1, 0, 0,\n",
       "       0, 0, 0, 0, 0, 0, 0, 0, 0, 0, 0, 0, 0, 0, 0, 0, 0, 0, 0, 0, 0, 0,\n",
       "       0, 0, 0, 0, 0, 1, 0, 0, 1, 0, 0, 0, 0, 0, 0, 0, 0, 1, 0, 0, 0, 0,\n",
       "       0, 1, 0, 0, 0, 0, 0, 0, 0, 0, 1, 1, 0, 0, 1, 0, 0, 0, 1, 0, 0, 1,\n",
       "       0, 1, 0, 0, 1, 1, 0, 1, 0, 1, 0, 0, 1, 0, 0, 1, 0, 0, 1, 1, 0, 0,\n",
       "       0, 0, 0, 0, 1, 1, 1, 0, 1, 0, 1, 0, 1, 1, 1, 1, 1, 0, 0, 1, 0, 0,\n",
       "       1, 0, 0, 0, 0, 0, 0, 0, 0, 0, 0, 0, 0, 0, 0, 1, 0, 1, 1, 0, 0, 0,\n",
       "       0, 0, 0, 0, 0, 0, 0, 0, 1, 0, 1, 0, 0, 0, 0, 0, 0, 0, 0, 0, 0, 0,\n",
       "       0, 0, 0, 0, 0, 0, 0, 0, 0, 0, 0, 0, 0, 0, 1, 1, 1, 0, 0, 0, 0, 0,\n",
       "       0, 0, 0, 1, 0, 0, 0, 0, 0, 0, 0, 0, 0, 0, 0], dtype=uint16)"
      ]
     },
     "execution_count": 169,
     "metadata": {},
     "output_type": "execute_result"
    }
   ],
   "source": [
    "fitClusters_cao"
   ]
  },
  {
   "cell_type": "markdown",
   "metadata": {},
   "source": [
    "### Combining the predicted clusters with the original DF"
   ]
  },
  {
   "cell_type": "code",
   "execution_count": 170,
   "metadata": {},
   "outputs": [],
   "source": [
    "clustersDf = pd.DataFrame(fitClusters_cao)\n",
    "clustersDf.columns = ['cluster_predicted']\n",
    "combinedDf = pd.concat([Coustomer_Used, clustersDf], axis = 1).reset_index()\n"
   ]
  },
  {
   "cell_type": "code",
   "execution_count": 171,
   "metadata": {},
   "outputs": [
    {
     "data": {
      "text/html": [
       "<div>\n",
       "<style scoped>\n",
       "    .dataframe tbody tr th:only-of-type {\n",
       "        vertical-align: middle;\n",
       "    }\n",
       "\n",
       "    .dataframe tbody tr th {\n",
       "        vertical-align: top;\n",
       "    }\n",
       "\n",
       "    .dataframe thead th {\n",
       "        text-align: right;\n",
       "    }\n",
       "</style>\n",
       "<table border=\"1\" class=\"dataframe\">\n",
       "  <thead>\n",
       "    <tr style=\"text-align: right;\">\n",
       "      <th></th>\n",
       "      <th>index</th>\n",
       "      <th>A6(Convince)</th>\n",
       "      <th>A4(month)</th>\n",
       "      <th>H1(Gender)</th>\n",
       "      <th>L1(Status)</th>\n",
       "      <th>A1(Place1)</th>\n",
       "      <th>B3(Accessories)</th>\n",
       "      <th>cluster_predicted</th>\n",
       "    </tr>\n",
       "  </thead>\n",
       "  <tbody>\n",
       "    <tr>\n",
       "      <th>0</th>\n",
       "      <td>0</td>\n",
       "      <td>1</td>\n",
       "      <td>1</td>\n",
       "      <td>0</td>\n",
       "      <td>2</td>\n",
       "      <td>2</td>\n",
       "      <td>0</td>\n",
       "      <td>0</td>\n",
       "    </tr>\n",
       "    <tr>\n",
       "      <th>1</th>\n",
       "      <td>1</td>\n",
       "      <td>2</td>\n",
       "      <td>0</td>\n",
       "      <td>1</td>\n",
       "      <td>4</td>\n",
       "      <td>2</td>\n",
       "      <td>0</td>\n",
       "      <td>0</td>\n",
       "    </tr>\n",
       "    <tr>\n",
       "      <th>2</th>\n",
       "      <td>2</td>\n",
       "      <td>1</td>\n",
       "      <td>0</td>\n",
       "      <td>1</td>\n",
       "      <td>0</td>\n",
       "      <td>2</td>\n",
       "      <td>0</td>\n",
       "      <td>0</td>\n",
       "    </tr>\n",
       "    <tr>\n",
       "      <th>3</th>\n",
       "      <td>3</td>\n",
       "      <td>1</td>\n",
       "      <td>1</td>\n",
       "      <td>1</td>\n",
       "      <td>2</td>\n",
       "      <td>2</td>\n",
       "      <td>0</td>\n",
       "      <td>0</td>\n",
       "    </tr>\n",
       "    <tr>\n",
       "      <th>4</th>\n",
       "      <td>4</td>\n",
       "      <td>1</td>\n",
       "      <td>0</td>\n",
       "      <td>0</td>\n",
       "      <td>3</td>\n",
       "      <td>2</td>\n",
       "      <td>2</td>\n",
       "      <td>1</td>\n",
       "    </tr>\n",
       "  </tbody>\n",
       "</table>\n",
       "</div>"
      ],
      "text/plain": [
       "   index  A6(Convince)  A4(month)  H1(Gender)  L1(Status)  A1(Place1)  \\\n",
       "0      0             1          1           0           2           2   \n",
       "1      1             2          0           1           4           2   \n",
       "2      2             1          0           1           0           2   \n",
       "3      3             1          1           1           2           2   \n",
       "4      4             1          0           0           3           2   \n",
       "\n",
       "   B3(Accessories)  cluster_predicted  \n",
       "0                0                  0  \n",
       "1                0                  0  \n",
       "2                0                  0  \n",
       "3                0                  0  \n",
       "4                2                  1  "
      ]
     },
     "execution_count": 171,
     "metadata": {},
     "output_type": "execute_result"
    }
   ],
   "source": [
    "combinedDf.head()"
   ]
  },
  {
   "cell_type": "markdown",
   "metadata": {},
   "source": [
    "### Checking the clusters"
   ]
  },
  {
   "cell_type": "code",
   "execution_count": 172,
   "metadata": {},
   "outputs": [],
   "source": [
    "cluster_0 = combinedDf[combinedDf['cluster_predicted'] == 0]\n",
    "cluster_1 = combinedDf[combinedDf['cluster_predicted'] == 1]"
   ]
  },
  {
   "cell_type": "markdown",
   "metadata": {},
   "source": [
    "### Cluster 1 After Clustred"
   ]
  },
  {
   "cell_type": "code",
   "execution_count": 173,
   "metadata": {},
   "outputs": [
    {
     "name": "stdout",
     "output_type": "stream",
     "text": [
      "<class 'pandas.core.frame.DataFrame'>\n",
      "Int64Index: 226 entries, 0 to 278\n",
      "Data columns (total 8 columns):\n",
      " #   Column             Non-Null Count  Dtype \n",
      "---  ------             --------------  ----- \n",
      " 0   index              226 non-null    int64 \n",
      " 1   A6(Convince)       226 non-null    int32 \n",
      " 2   A4(month)          226 non-null    int32 \n",
      " 3   H1(Gender)         226 non-null    int32 \n",
      " 4   L1(Status)         226 non-null    int32 \n",
      " 5   A1(Place1)         226 non-null    int32 \n",
      " 6   B3(Accessories)    226 non-null    int32 \n",
      " 7   cluster_predicted  226 non-null    uint16\n",
      "dtypes: int32(6), int64(1), uint16(1)\n",
      "memory usage: 9.3 KB\n"
     ]
    }
   ],
   "source": [
    "cluster_0.info()"
   ]
  },
  {
   "cell_type": "markdown",
   "metadata": {},
   "source": [
    "### Cluster 2 After Clustred"
   ]
  },
  {
   "cell_type": "code",
   "execution_count": 174,
   "metadata": {},
   "outputs": [
    {
     "name": "stdout",
     "output_type": "stream",
     "text": [
      "<class 'pandas.core.frame.DataFrame'>\n",
      "Int64Index: 53 entries, 4 to 267\n",
      "Data columns (total 8 columns):\n",
      " #   Column             Non-Null Count  Dtype \n",
      "---  ------             --------------  ----- \n",
      " 0   index              53 non-null     int64 \n",
      " 1   A6(Convince)       53 non-null     int32 \n",
      " 2   A4(month)          53 non-null     int32 \n",
      " 3   H1(Gender)         53 non-null     int32 \n",
      " 4   L1(Status)         53 non-null     int32 \n",
      " 5   A1(Place1)         53 non-null     int32 \n",
      " 6   B3(Accessories)    53 non-null     int32 \n",
      " 7   cluster_predicted  53 non-null     uint16\n",
      "dtypes: int32(6), int64(1), uint16(1)\n",
      "memory usage: 2.2 KB\n"
     ]
    }
   ],
   "source": [
    "cluster_1.info()"
   ]
  },
  {
   "cell_type": "markdown",
   "metadata": {},
   "source": [
    "## Graphical Representation of Clusters"
   ]
  },
  {
   "cell_type": "markdown",
   "metadata": {},
   "source": [
    "### Customer Gender\n",
    "-----------------------\n",
    " - Male \n",
    " - Female"
   ]
  },
  {
   "cell_type": "code",
   "execution_count": 227,
   "metadata": {},
   "outputs": [
    {
     "data": {
      "image/png": "[encoded data removed]",
      "text/plain": [
       "<Figure size 576x432 with 1 Axes>"
      ]
     },
     "metadata": {
      "needs_background": "light"
     },
     "output_type": "display_data"
    }
   ],
   "source": [
    "plt.figure(figsize=(8,6))\n",
    "plt.title(\"\\nGender of the Customer\\n\",fontsize=18)\n",
    "sns.countplot(x=combinedDf['H1(Gender)'],order=combinedDf['H1(Gender)'].value_counts().index,hue=combinedDf['cluster_predicted'],palette=[\"#ffe5b9\", \"#a6a9b6\"])\n",
    "plt.show()\n"
   ]
  },
  {
   "cell_type": "markdown",
   "metadata": {},
   "source": [
    "Customer Status\n",
    "-----------------------\n",
    "  - Single \n",
    "  - Married\n",
    "  - Divoced\n",
    "  - Widowed\n",
    "  - In civil partnership / marriage-like community\n"
   ]
  },
  {
   "cell_type": "code",
   "execution_count": 218,
   "metadata": {},
   "outputs": [
    {
     "data": {
      "image/png": "[encoded data removed]",
      "text/plain": [
       "<Figure size 576x432 with 1 Axes>"
      ]
     },
     "metadata": {
      "needs_background": "light"
     },
     "output_type": "display_data"
    }
   ],
   "source": [
    "plt.figure(figsize=(8,6))\n",
    "plt.title(\"\\nCustomer Status\\n\",fontsize=18)\n",
    "sns.countplot(x=combinedDf['L1(Status)'],order=combinedDf['L1(Status)'].value_counts().index,hue=combinedDf['cluster_predicted'],palette=['#ff4646','#ff8585'])\n",
    "plt.show()"
   ]
  },
  {
   "cell_type": "markdown",
   "metadata": {},
   "source": [
    "## Accessories Used\n",
    " --------------------\n",
    "  - Laptop / PC (Windows, Mac, etc.)\n",
    "  - Smartphone\n",
    "  - Tablet\n",
    "  - Offline (phone, brochures, friends & family etc.)\n"
   ]
  },
  {
   "cell_type": "code",
   "execution_count": 220,
   "metadata": {},
   "outputs": [
    {
     "data": {
      "image/png": "[encoded data removed]",
      "text/plain": [
       "<Figure size 576x432 with 1 Axes>"
      ]
     },
     "metadata": {
      "needs_background": "light"
     },
     "output_type": "display_data"
    }
   ],
   "source": [
    "plt.figure(figsize=(8,6))\n",
    "plt.title(\"\\nCustomer Accessories Used\\n\",fontsize=18)\n",
    "sns.countplot(x=combinedDf['B3(Accessories)'],order=combinedDf['B3(Accessories)'].value_counts().index,hue=combinedDf['cluster_predicted'],palette=[\"#bedcfa\",'#98acf8'])\n",
    "plt.show()"
   ]
  },
  {
   "cell_type": "markdown",
   "metadata": {},
   "source": [
    "### Customer Stay Place\n",
    "- Other (please specify)\n",
    "- Day guest\n",
    "- Overnight guest at the campsite\n",
    "- Overnight guest with friends\n",
    "- Overnight guest in a hotel\n",
    "- Overnight guest in a holiday apartment\n",
    "- Overnight guest in a second home of friends / acquaintances / family\n",
    "- Second home\n",
    "- Overnight guest in a youth hostel / hostel\n",
    "- Overnight guest in a group accommodation\n",
    "- Resident in the destination\n",
    "- Lives in Davos Klosters"
   ]
  },
  {
   "cell_type": "code",
   "execution_count": 222,
   "metadata": {},
   "outputs": [
    {
     "data": {
      "image/png": "[encoded data removed]",
      "text/plain": [
       "<Figure size 576x432 with 1 Axes>"
      ]
     },
     "metadata": {
      "needs_background": "light"
     },
     "output_type": "display_data"
    }
   ],
   "source": [
    "plt.figure(figsize=(8,6))\n",
    "plt.title(\"\\nCustomer Place \\n\",fontsize=18)\n",
    "sns.countplot(x=combinedDf['A1(Place1)'],order=combinedDf['A1(Place1)'].value_counts().index,hue=combinedDf['cluster_predicted'],palette=[\"#153e90\",'#54e346'])\n",
    "plt.show()"
   ]
  },
  {
   "cell_type": "markdown",
   "metadata": {},
   "source": [
    "## 2. Customer Channel Satisfication"
   ]
  },
  {
   "cell_type": "markdown",
   "metadata": {},
   "source": [
    "-  Cluster 1  :   Customer ages 1- 18 \n",
    "-  CLuster 2  : Customer Uses ( fb , twitter , Insta , tittok,snapchat , Pintrest , Linkedin , SnapChat )"
   ]
  },
  {
   "cell_type": "code",
   "execution_count": 239,
   "metadata": {},
   "outputs": [],
   "source": [
    "Social_Media = data[['M3.1(1-2)', 'M3.2(3-4)','M3.3(5-6)','M3.4(7-8)','M3.5(9-10)','M3.6(11-12)','M3.7(13-14)',\n",
    "          'M3.8(15-16)','M3.9(17-18)','M3.10(18+)',\n",
    "          'B7(Used)' , 'B8.1(fb)','B8.2(Insta)','B8.3(tiktok)','B8.4(SnapChat)','B8.5(Pinterest)','B8.6(Twitter)','B8.7(Likedin)']]"
   ]
  },
  {
   "cell_type": "markdown",
   "metadata": {},
   "source": [
    "## Label Encode"
   ]
  },
  {
   "cell_type": "code",
   "execution_count": 240,
   "metadata": {},
   "outputs": [
    {
     "data": {
      "text/html": [
       "<div>\n",
       "<style scoped>\n",
       "    .dataframe tbody tr th:only-of-type {\n",
       "        vertical-align: middle;\n",
       "    }\n",
       "\n",
       "    .dataframe tbody tr th {\n",
       "        vertical-align: top;\n",
       "    }\n",
       "\n",
       "    .dataframe thead th {\n",
       "        text-align: right;\n",
       "    }\n",
       "</style>\n",
       "<table border=\"1\" class=\"dataframe\">\n",
       "  <thead>\n",
       "    <tr style=\"text-align: right;\">\n",
       "      <th></th>\n",
       "      <th>M3.1(1-2)</th>\n",
       "      <th>M3.2(3-4)</th>\n",
       "      <th>M3.3(5-6)</th>\n",
       "      <th>M3.4(7-8)</th>\n",
       "      <th>M3.5(9-10)</th>\n",
       "      <th>M3.6(11-12)</th>\n",
       "      <th>M3.7(13-14)</th>\n",
       "      <th>M3.8(15-16)</th>\n",
       "      <th>M3.9(17-18)</th>\n",
       "      <th>M3.10(18+)</th>\n",
       "      <th>B7(Used)</th>\n",
       "      <th>B8.1(fb)</th>\n",
       "      <th>B8.2(Insta)</th>\n",
       "      <th>B8.3(tiktok)</th>\n",
       "      <th>B8.4(SnapChat)</th>\n",
       "      <th>B8.5(Pinterest)</th>\n",
       "      <th>B8.6(Twitter)</th>\n",
       "      <th>B8.7(Likedin)</th>\n",
       "    </tr>\n",
       "  </thead>\n",
       "  <tbody>\n",
       "    <tr>\n",
       "      <th>0</th>\n",
       "      <td>0</td>\n",
       "      <td>0</td>\n",
       "      <td>0</td>\n",
       "      <td>0</td>\n",
       "      <td>0</td>\n",
       "      <td>0</td>\n",
       "      <td>0</td>\n",
       "      <td>0</td>\n",
       "      <td>0</td>\n",
       "      <td>0</td>\n",
       "      <td>0</td>\n",
       "      <td>0</td>\n",
       "      <td>0</td>\n",
       "      <td>0</td>\n",
       "      <td>0</td>\n",
       "      <td>0</td>\n",
       "      <td>0</td>\n",
       "      <td>0</td>\n",
       "    </tr>\n",
       "    <tr>\n",
       "      <th>1</th>\n",
       "      <td>0</td>\n",
       "      <td>0</td>\n",
       "      <td>0</td>\n",
       "      <td>0</td>\n",
       "      <td>0</td>\n",
       "      <td>0</td>\n",
       "      <td>0</td>\n",
       "      <td>0</td>\n",
       "      <td>0</td>\n",
       "      <td>0</td>\n",
       "      <td>1</td>\n",
       "      <td>0</td>\n",
       "      <td>0</td>\n",
       "      <td>0</td>\n",
       "      <td>0</td>\n",
       "      <td>0</td>\n",
       "      <td>0</td>\n",
       "      <td>0</td>\n",
       "    </tr>\n",
       "    <tr>\n",
       "      <th>2</th>\n",
       "      <td>0</td>\n",
       "      <td>0</td>\n",
       "      <td>0</td>\n",
       "      <td>0</td>\n",
       "      <td>0</td>\n",
       "      <td>0</td>\n",
       "      <td>0</td>\n",
       "      <td>0</td>\n",
       "      <td>0</td>\n",
       "      <td>0</td>\n",
       "      <td>2</td>\n",
       "      <td>0</td>\n",
       "      <td>0</td>\n",
       "      <td>0</td>\n",
       "      <td>0</td>\n",
       "      <td>0</td>\n",
       "      <td>0</td>\n",
       "      <td>0</td>\n",
       "    </tr>\n",
       "    <tr>\n",
       "      <th>3</th>\n",
       "      <td>0</td>\n",
       "      <td>0</td>\n",
       "      <td>0</td>\n",
       "      <td>0</td>\n",
       "      <td>0</td>\n",
       "      <td>0</td>\n",
       "      <td>0</td>\n",
       "      <td>0</td>\n",
       "      <td>0</td>\n",
       "      <td>0</td>\n",
       "      <td>2</td>\n",
       "      <td>0</td>\n",
       "      <td>0</td>\n",
       "      <td>0</td>\n",
       "      <td>0</td>\n",
       "      <td>0</td>\n",
       "      <td>0</td>\n",
       "      <td>0</td>\n",
       "    </tr>\n",
       "    <tr>\n",
       "      <th>4</th>\n",
       "      <td>0</td>\n",
       "      <td>0</td>\n",
       "      <td>0</td>\n",
       "      <td>0</td>\n",
       "      <td>0</td>\n",
       "      <td>0</td>\n",
       "      <td>0</td>\n",
       "      <td>0</td>\n",
       "      <td>0</td>\n",
       "      <td>0</td>\n",
       "      <td>1</td>\n",
       "      <td>0</td>\n",
       "      <td>0</td>\n",
       "      <td>0</td>\n",
       "      <td>0</td>\n",
       "      <td>0</td>\n",
       "      <td>0</td>\n",
       "      <td>0</td>\n",
       "    </tr>\n",
       "  </tbody>\n",
       "</table>\n",
       "</div>"
      ],
      "text/plain": [
       "   M3.1(1-2)  M3.2(3-4)  M3.3(5-6)  M3.4(7-8)  M3.5(9-10)  M3.6(11-12)  \\\n",
       "0          0          0          0          0           0            0   \n",
       "1          0          0          0          0           0            0   \n",
       "2          0          0          0          0           0            0   \n",
       "3          0          0          0          0           0            0   \n",
       "4          0          0          0          0           0            0   \n",
       "\n",
       "   M3.7(13-14)  M3.8(15-16)  M3.9(17-18)  M3.10(18+)  B7(Used)  B8.1(fb)  \\\n",
       "0            0            0            0           0         0         0   \n",
       "1            0            0            0           0         1         0   \n",
       "2            0            0            0           0         2         0   \n",
       "3            0            0            0           0         2         0   \n",
       "4            0            0            0           0         1         0   \n",
       "\n",
       "   B8.2(Insta)  B8.3(tiktok)  B8.4(SnapChat)  B8.5(Pinterest)  B8.6(Twitter)  \\\n",
       "0            0             0               0                0              0   \n",
       "1            0             0               0                0              0   \n",
       "2            0             0               0                0              0   \n",
       "3            0             0               0                0              0   \n",
       "4            0             0               0                0              0   \n",
       "\n",
       "   B8.7(Likedin)  \n",
       "0              0  \n",
       "1              0  \n",
       "2              0  \n",
       "3              0  \n",
       "4              0  "
      ]
     },
     "execution_count": 240,
     "metadata": {},
     "output_type": "execute_result"
    }
   ],
   "source": [
    "from sklearn import preprocessing\n",
    "le = preprocessing.LabelEncoder()\n",
    "Social_Media = Social_Media.apply(le.fit_transform)\n",
    "Social_Media.head()"
   ]
  },
  {
   "cell_type": "code",
   "execution_count": 242,
   "metadata": {},
   "outputs": [
    {
     "name": "stdout",
     "output_type": "stream",
     "text": [
      "Init: initializing centroids\n",
      "Init: initializing clusters\n",
      "Starting iterations...\n",
      "Run 1, iteration: 1/100, moves: 0, cost: 52.0\n"
     ]
    }
   ],
   "source": [
    "km_cao = KModes(n_clusters=2, init = \"Cao\", n_init = 1, verbose=1)\n",
    "fitClusters_cao = km_cao.fit_predict(Social_Media)"
   ]
  },
  {
   "cell_type": "code",
   "execution_count": 243,
   "metadata": {},
   "outputs": [
    {
     "data": {
      "text/plain": [
       "array([0, 0, 1, 1, 0, 0, 0, 0, 1, 0, 1, 1, 1, 0, 0, 1, 0, 0, 1, 1, 0, 0,\n",
       "       0, 0, 0, 0, 1, 1, 0, 0, 0, 1, 0, 1, 1, 0, 1, 1, 0, 1, 0, 0, 0, 0,\n",
       "       0, 0, 0, 0, 0, 0, 0, 0, 1, 0, 0, 0, 1, 0, 0, 0, 0, 0, 1, 1, 0, 0,\n",
       "       1, 0, 1, 0, 0, 1, 0, 0, 0, 0, 0, 0, 0, 0, 0, 1, 1, 0, 0, 1, 0, 1,\n",
       "       0, 0, 0, 0, 0, 0, 1, 0, 1, 0, 0, 0, 1, 0, 0, 0, 0, 1, 0, 0, 0, 0,\n",
       "       0, 0, 0, 1, 0, 1, 1, 1, 0, 1, 0, 0, 0, 1, 0, 0, 0, 0, 0, 0, 0, 0,\n",
       "       0, 0, 1, 1, 0, 0, 1, 0, 0, 0, 1, 0, 0, 0, 0, 0, 0, 0, 0, 0, 1, 0,\n",
       "       0, 1, 0, 0, 0, 0, 0, 1, 1, 0, 0, 0, 0, 0, 0, 0, 0, 0, 0, 1, 0, 0,\n",
       "       0, 1, 0, 1, 1, 1, 0, 1, 0, 0, 0, 0, 0, 1, 0, 1, 0, 0, 0, 1, 1, 1,\n",
       "       0, 0, 0, 0, 0, 0, 0, 0, 0, 0, 0, 0, 0, 0, 0, 0, 0, 0, 0, 0, 0, 0,\n",
       "       0, 0, 0, 1, 0, 0, 0, 0, 0, 0, 0, 0, 0, 0, 0, 0, 0, 0, 0, 0, 0, 0,\n",
       "       0, 0, 0, 0, 0, 0, 0, 0, 0, 0, 0, 0, 0, 0, 0, 0, 1, 0, 0, 0, 1, 0,\n",
       "       0, 0, 0, 0, 1, 0, 0, 0, 0, 0, 0, 0, 0, 0, 0], dtype=uint16)"
      ]
     },
     "execution_count": 243,
     "metadata": {},
     "output_type": "execute_result"
    }
   ],
   "source": [
    "fitClusters_cao"
   ]
  },
  {
   "cell_type": "markdown",
   "metadata": {},
   "source": [
    "### Combining the predicted clusters with the original DF"
   ]
  },
  {
   "cell_type": "code",
   "execution_count": 359,
   "metadata": {},
   "outputs": [],
   "source": [
    "clustersDf = pd.DataFrame(fitClusters_cao)\n",
    "clustersDf.columns = ['cluster_predicted']\n",
    "combinedDf = pd.concat([Social_Media, clustersDf], axis = 1).reset_index()\n"
   ]
  },
  {
   "cell_type": "code",
   "execution_count": 358,
   "metadata": {},
   "outputs": [
    {
     "data": {
      "text/html": [
       "<div>\n",
       "<style scoped>\n",
       "    .dataframe tbody tr th:only-of-type {\n",
       "        vertical-align: middle;\n",
       "    }\n",
       "\n",
       "    .dataframe tbody tr th {\n",
       "        vertical-align: top;\n",
       "    }\n",
       "\n",
       "    .dataframe thead th {\n",
       "        text-align: right;\n",
       "    }\n",
       "</style>\n",
       "<table border=\"1\" class=\"dataframe\">\n",
       "  <thead>\n",
       "    <tr style=\"text-align: right;\">\n",
       "      <th></th>\n",
       "      <th>index</th>\n",
       "      <th>M3.1(1-2)</th>\n",
       "      <th>M3.2(3-4)</th>\n",
       "      <th>M3.3(5-6)</th>\n",
       "      <th>M3.4(7-8)</th>\n",
       "      <th>M3.5(9-10)</th>\n",
       "      <th>M3.6(11-12)</th>\n",
       "      <th>M3.7(13-14)</th>\n",
       "      <th>M3.8(15-16)</th>\n",
       "      <th>M3.9(17-18)</th>\n",
       "      <th>M3.10(18+)</th>\n",
       "      <th>B7(Used)</th>\n",
       "      <th>B8.1(fb)</th>\n",
       "      <th>B8.2(Insta)</th>\n",
       "      <th>B8.3(tiktok)</th>\n",
       "      <th>B8.4(SnapChat)</th>\n",
       "      <th>B8.5(Pinterest)</th>\n",
       "      <th>B8.6(Twitter)</th>\n",
       "      <th>B8.7(Likedin)</th>\n",
       "      <th>cluster_predicted</th>\n",
       "    </tr>\n",
       "  </thead>\n",
       "  <tbody>\n",
       "    <tr>\n",
       "      <th>0</th>\n",
       "      <td>0</td>\n",
       "      <td>0</td>\n",
       "      <td>0</td>\n",
       "      <td>0</td>\n",
       "      <td>0</td>\n",
       "      <td>0</td>\n",
       "      <td>0</td>\n",
       "      <td>0</td>\n",
       "      <td>0</td>\n",
       "      <td>0</td>\n",
       "      <td>0</td>\n",
       "      <td>0</td>\n",
       "      <td>0</td>\n",
       "      <td>0</td>\n",
       "      <td>0</td>\n",
       "      <td>0</td>\n",
       "      <td>0</td>\n",
       "      <td>0</td>\n",
       "      <td>0</td>\n",
       "      <td>0</td>\n",
       "    </tr>\n",
       "    <tr>\n",
       "      <th>1</th>\n",
       "      <td>1</td>\n",
       "      <td>0</td>\n",
       "      <td>0</td>\n",
       "      <td>0</td>\n",
       "      <td>0</td>\n",
       "      <td>0</td>\n",
       "      <td>0</td>\n",
       "      <td>0</td>\n",
       "      <td>0</td>\n",
       "      <td>0</td>\n",
       "      <td>0</td>\n",
       "      <td>1</td>\n",
       "      <td>0</td>\n",
       "      <td>0</td>\n",
       "      <td>0</td>\n",
       "      <td>0</td>\n",
       "      <td>0</td>\n",
       "      <td>0</td>\n",
       "      <td>0</td>\n",
       "      <td>0</td>\n",
       "    </tr>\n",
       "    <tr>\n",
       "      <th>2</th>\n",
       "      <td>2</td>\n",
       "      <td>0</td>\n",
       "      <td>0</td>\n",
       "      <td>0</td>\n",
       "      <td>0</td>\n",
       "      <td>0</td>\n",
       "      <td>0</td>\n",
       "      <td>0</td>\n",
       "      <td>0</td>\n",
       "      <td>0</td>\n",
       "      <td>0</td>\n",
       "      <td>2</td>\n",
       "      <td>0</td>\n",
       "      <td>0</td>\n",
       "      <td>0</td>\n",
       "      <td>0</td>\n",
       "      <td>0</td>\n",
       "      <td>0</td>\n",
       "      <td>0</td>\n",
       "      <td>1</td>\n",
       "    </tr>\n",
       "    <tr>\n",
       "      <th>3</th>\n",
       "      <td>3</td>\n",
       "      <td>0</td>\n",
       "      <td>0</td>\n",
       "      <td>0</td>\n",
       "      <td>0</td>\n",
       "      <td>0</td>\n",
       "      <td>0</td>\n",
       "      <td>0</td>\n",
       "      <td>0</td>\n",
       "      <td>0</td>\n",
       "      <td>0</td>\n",
       "      <td>2</td>\n",
       "      <td>0</td>\n",
       "      <td>0</td>\n",
       "      <td>0</td>\n",
       "      <td>0</td>\n",
       "      <td>0</td>\n",
       "      <td>0</td>\n",
       "      <td>0</td>\n",
       "      <td>1</td>\n",
       "    </tr>\n",
       "    <tr>\n",
       "      <th>4</th>\n",
       "      <td>4</td>\n",
       "      <td>0</td>\n",
       "      <td>0</td>\n",
       "      <td>0</td>\n",
       "      <td>0</td>\n",
       "      <td>0</td>\n",
       "      <td>0</td>\n",
       "      <td>0</td>\n",
       "      <td>0</td>\n",
       "      <td>0</td>\n",
       "      <td>0</td>\n",
       "      <td>1</td>\n",
       "      <td>0</td>\n",
       "      <td>0</td>\n",
       "      <td>0</td>\n",
       "      <td>0</td>\n",
       "      <td>0</td>\n",
       "      <td>0</td>\n",
       "      <td>0</td>\n",
       "      <td>0</td>\n",
       "    </tr>\n",
       "  </tbody>\n",
       "</table>\n",
       "</div>"
      ],
      "text/plain": [
       "   index  M3.1(1-2)  M3.2(3-4)  M3.3(5-6)  M3.4(7-8)  M3.5(9-10)  M3.6(11-12)  \\\n",
       "0      0          0          0          0          0           0            0   \n",
       "1      1          0          0          0          0           0            0   \n",
       "2      2          0          0          0          0           0            0   \n",
       "3      3          0          0          0          0           0            0   \n",
       "4      4          0          0          0          0           0            0   \n",
       "\n",
       "   M3.7(13-14)  M3.8(15-16)  M3.9(17-18)  M3.10(18+)  B7(Used)  B8.1(fb)  \\\n",
       "0            0            0            0           0         0         0   \n",
       "1            0            0            0           0         1         0   \n",
       "2            0            0            0           0         2         0   \n",
       "3            0            0            0           0         2         0   \n",
       "4            0            0            0           0         1         0   \n",
       "\n",
       "   B8.2(Insta)  B8.3(tiktok)  B8.4(SnapChat)  B8.5(Pinterest)  B8.6(Twitter)  \\\n",
       "0            0             0               0                0              0   \n",
       "1            0             0               0                0              0   \n",
       "2            0             0               0                0              0   \n",
       "3            0             0               0                0              0   \n",
       "4            0             0               0                0              0   \n",
       "\n",
       "   B8.7(Likedin)  cluster_predicted  \n",
       "0              0                  0  \n",
       "1              0                  0  \n",
       "2              0                  1  \n",
       "3              0                  1  \n",
       "4              0                  0  "
      ]
     },
     "execution_count": 358,
     "metadata": {},
     "output_type": "execute_result"
    }
   ],
   "source": [
    "combinedDf.head()"
   ]
  },
  {
   "cell_type": "code",
   "execution_count": 271,
   "metadata": {},
   "outputs": [],
   "source": [
    "cluster_0 = combinedDf[combinedDf['cluster_predicted'] == 0]\n",
    "cluster_1 = combinedDf[combinedDf['cluster_predicted'] == 1]"
   ]
  },
  {
   "cell_type": "code",
   "execution_count": 248,
   "metadata": {},
   "outputs": [
    {
     "name": "stdout",
     "output_type": "stream",
     "text": [
      "<class 'pandas.core.frame.DataFrame'>\n",
      "Int64Index: 218 entries, 0 to 278\n",
      "Data columns (total 20 columns):\n",
      " #   Column             Non-Null Count  Dtype \n",
      "---  ------             --------------  ----- \n",
      " 0   index              218 non-null    int64 \n",
      " 1   M3.1(1-2)          218 non-null    int32 \n",
      " 2   M3.2(3-4)          218 non-null    int32 \n",
      " 3   M3.3(5-6)          218 non-null    int32 \n",
      " 4   M3.4(7-8)          218 non-null    int32 \n",
      " 5   M3.5(9-10)         218 non-null    int32 \n",
      " 6   M3.6(11-12)        218 non-null    int32 \n",
      " 7   M3.7(13-14)        218 non-null    int32 \n",
      " 8   M3.8(15-16)        218 non-null    int32 \n",
      " 9   M3.9(17-18)        218 non-null    int32 \n",
      " 10  M3.10(18+)         218 non-null    int32 \n",
      " 11  B7(Used)           218 non-null    int32 \n",
      " 12  B8.1(fb)           218 non-null    int32 \n",
      " 13  B8.2(Insta)        218 non-null    int32 \n",
      " 14  B8.3(tiktok)       218 non-null    int32 \n",
      " 15  B8.4(SnapChat)     218 non-null    int32 \n",
      " 16  B8.5(Pinterest)    218 non-null    int32 \n",
      " 17  B8.6(Twitter)      218 non-null    int32 \n",
      " 18  B8.7(Likedin)      218 non-null    int32 \n",
      " 19  cluster_predicted  218 non-null    uint16\n",
      "dtypes: int32(18), int64(1), uint16(1)\n",
      "memory usage: 19.2 KB\n"
     ]
    }
   ],
   "source": [
    "cluster_0.info()"
   ]
  },
  {
   "cell_type": "code",
   "execution_count": 315,
   "metadata": {},
   "outputs": [
    {
     "name": "stdout",
     "output_type": "stream",
     "text": [
      "<class 'pandas.core.frame.DataFrame'>\n",
      "Int64Index: 61 entries, 2 to 268\n",
      "Data columns (total 20 columns):\n",
      " #   Column             Non-Null Count  Dtype \n",
      "---  ------             --------------  ----- \n",
      " 0   index              61 non-null     int64 \n",
      " 1   M3.1(1-2)          61 non-null     int32 \n",
      " 2   M3.2(3-4)          61 non-null     int32 \n",
      " 3   M3.3(5-6)          61 non-null     int32 \n",
      " 4   M3.4(7-8)          61 non-null     int32 \n",
      " 5   M3.5(9-10)         61 non-null     int32 \n",
      " 6   M3.6(11-12)        61 non-null     int32 \n",
      " 7   M3.7(13-14)        61 non-null     int32 \n",
      " 8   M3.8(15-16)        61 non-null     int32 \n",
      " 9   M3.9(17-18)        61 non-null     int32 \n",
      " 10  M3.10(18+)         61 non-null     int32 \n",
      " 11  B7(Used)           61 non-null     int32 \n",
      " 12  B8.1(fb)           61 non-null     int32 \n",
      " 13  B8.2(Insta)        61 non-null     int32 \n",
      " 14  B8.3(tiktok)       61 non-null     int32 \n",
      " 15  B8.4(SnapChat)     61 non-null     int32 \n",
      " 16  B8.5(Pinterest)    61 non-null     int32 \n",
      " 17  B8.6(Twitter)      61 non-null     int32 \n",
      " 18  B8.7(Likedin)      61 non-null     int32 \n",
      " 19  cluster_predicted  61 non-null     uint16\n",
      "dtypes: int32(18), int64(1), uint16(1)\n",
      "memory usage: 5.4 KB\n"
     ]
    }
   ],
   "source": [
    "cluster_1.info()"
   ]
  },
  {
   "cell_type": "code",
   "execution_count": 329,
   "metadata": {},
   "outputs": [
    {
     "data": {
      "text/html": [
       "<div>\n",
       "<style scoped>\n",
       "    .dataframe tbody tr th:only-of-type {\n",
       "        vertical-align: middle;\n",
       "    }\n",
       "\n",
       "    .dataframe tbody tr th {\n",
       "        vertical-align: top;\n",
       "    }\n",
       "\n",
       "    .dataframe thead th {\n",
       "        text-align: right;\n",
       "    }\n",
       "</style>\n",
       "<table border=\"1\" class=\"dataframe\">\n",
       "  <thead>\n",
       "    <tr style=\"text-align: right;\">\n",
       "      <th></th>\n",
       "      <th>M3.1(1-2)</th>\n",
       "      <th>M3.2(3-4)</th>\n",
       "      <th>M3.3(5-6)</th>\n",
       "      <th>M3.4(7-8)</th>\n",
       "      <th>M3.5(9-10)</th>\n",
       "      <th>M3.6(11-12)</th>\n",
       "      <th>M3.7(13-14)</th>\n",
       "      <th>M3.8(15-16)</th>\n",
       "      <th>M3.9(17-18)</th>\n",
       "      <th>M3.10(18+)</th>\n",
       "      <th>B7(Used)</th>\n",
       "      <th>B8.1(fb)</th>\n",
       "      <th>B8.2(Insta)</th>\n",
       "      <th>B8.3(tiktok)</th>\n",
       "      <th>B8.4(SnapChat)</th>\n",
       "      <th>B8.5(Pinterest)</th>\n",
       "      <th>B8.6(Twitter)</th>\n",
       "      <th>B8.7(Likedin)</th>\n",
       "    </tr>\n",
       "  </thead>\n",
       "  <tbody>\n",
       "    <tr>\n",
       "      <th>0</th>\n",
       "      <td>0</td>\n",
       "      <td>0</td>\n",
       "      <td>0</td>\n",
       "      <td>0</td>\n",
       "      <td>0</td>\n",
       "      <td>0</td>\n",
       "      <td>0</td>\n",
       "      <td>0</td>\n",
       "      <td>0</td>\n",
       "      <td>0</td>\n",
       "      <td>0</td>\n",
       "      <td>0</td>\n",
       "      <td>0</td>\n",
       "      <td>0</td>\n",
       "      <td>0</td>\n",
       "      <td>0</td>\n",
       "      <td>0</td>\n",
       "      <td>0</td>\n",
       "    </tr>\n",
       "    <tr>\n",
       "      <th>1</th>\n",
       "      <td>0</td>\n",
       "      <td>0</td>\n",
       "      <td>0</td>\n",
       "      <td>0</td>\n",
       "      <td>0</td>\n",
       "      <td>0</td>\n",
       "      <td>0</td>\n",
       "      <td>0</td>\n",
       "      <td>0</td>\n",
       "      <td>0</td>\n",
       "      <td>1</td>\n",
       "      <td>0</td>\n",
       "      <td>0</td>\n",
       "      <td>0</td>\n",
       "      <td>0</td>\n",
       "      <td>0</td>\n",
       "      <td>0</td>\n",
       "      <td>0</td>\n",
       "    </tr>\n",
       "    <tr>\n",
       "      <th>2</th>\n",
       "      <td>0</td>\n",
       "      <td>0</td>\n",
       "      <td>0</td>\n",
       "      <td>0</td>\n",
       "      <td>0</td>\n",
       "      <td>0</td>\n",
       "      <td>0</td>\n",
       "      <td>0</td>\n",
       "      <td>0</td>\n",
       "      <td>0</td>\n",
       "      <td>2</td>\n",
       "      <td>0</td>\n",
       "      <td>0</td>\n",
       "      <td>0</td>\n",
       "      <td>0</td>\n",
       "      <td>0</td>\n",
       "      <td>0</td>\n",
       "      <td>0</td>\n",
       "    </tr>\n",
       "    <tr>\n",
       "      <th>3</th>\n",
       "      <td>0</td>\n",
       "      <td>0</td>\n",
       "      <td>0</td>\n",
       "      <td>0</td>\n",
       "      <td>0</td>\n",
       "      <td>0</td>\n",
       "      <td>0</td>\n",
       "      <td>0</td>\n",
       "      <td>0</td>\n",
       "      <td>0</td>\n",
       "      <td>2</td>\n",
       "      <td>0</td>\n",
       "      <td>0</td>\n",
       "      <td>0</td>\n",
       "      <td>0</td>\n",
       "      <td>0</td>\n",
       "      <td>0</td>\n",
       "      <td>0</td>\n",
       "    </tr>\n",
       "    <tr>\n",
       "      <th>4</th>\n",
       "      <td>0</td>\n",
       "      <td>0</td>\n",
       "      <td>0</td>\n",
       "      <td>0</td>\n",
       "      <td>0</td>\n",
       "      <td>0</td>\n",
       "      <td>0</td>\n",
       "      <td>0</td>\n",
       "      <td>0</td>\n",
       "      <td>0</td>\n",
       "      <td>1</td>\n",
       "      <td>0</td>\n",
       "      <td>0</td>\n",
       "      <td>0</td>\n",
       "      <td>0</td>\n",
       "      <td>0</td>\n",
       "      <td>0</td>\n",
       "      <td>0</td>\n",
       "    </tr>\n",
       "  </tbody>\n",
       "</table>\n",
       "</div>"
      ],
      "text/plain": [
       "   M3.1(1-2)  M3.2(3-4)  M3.3(5-6)  M3.4(7-8)  M3.5(9-10)  M3.6(11-12)  \\\n",
       "0          0          0          0          0           0            0   \n",
       "1          0          0          0          0           0            0   \n",
       "2          0          0          0          0           0            0   \n",
       "3          0          0          0          0           0            0   \n",
       "4          0          0          0          0           0            0   \n",
       "\n",
       "   M3.7(13-14)  M3.8(15-16)  M3.9(17-18)  M3.10(18+)  B7(Used)  B8.1(fb)  \\\n",
       "0            0            0            0           0         0         0   \n",
       "1            0            0            0           0         1         0   \n",
       "2            0            0            0           0         2         0   \n",
       "3            0            0            0           0         2         0   \n",
       "4            0            0            0           0         1         0   \n",
       "\n",
       "   B8.2(Insta)  B8.3(tiktok)  B8.4(SnapChat)  B8.5(Pinterest)  B8.6(Twitter)  \\\n",
       "0            0             0               0                0              0   \n",
       "1            0             0               0                0              0   \n",
       "2            0             0               0                0              0   \n",
       "3            0             0               0                0              0   \n",
       "4            0             0               0                0              0   \n",
       "\n",
       "   B8.7(Likedin)  \n",
       "0              0  \n",
       "1              0  \n",
       "2              0  \n",
       "3              0  \n",
       "4              0  "
      ]
     },
     "execution_count": 329,
     "metadata": {},
     "output_type": "execute_result"
    }
   ],
   "source": [
    "Social_Media.head()"
   ]
  },
  {
   "cell_type": "code",
   "execution_count": 328,
   "metadata": {},
   "outputs": [
    {
     "data": {
      "image/png": "[encoded data removed]",
      "text/plain": [
       "<Figure size 432x288 with 1 Axes>"
      ]
     },
     "metadata": {
      "needs_background": "light"
     },
     "output_type": "display_data"
    }
   ],
   "source": [
    "\n",
    "y = np.array([i for i in range(1,5,1)])\n",
    "plt.plot(y,cost,color='coral',linewidth=3)\n",
    "plt.title(\"COst of the CLuster\\n\",fontsize=15)\n",
    "plt.xlabel(\"Range of the clusters\\n\",fontsize=13)\n",
    "plt.ylabel(\"Cost of Clusters\\n\",fontsize=13)\n",
    "plt.show()"
   ]
  },
  {
   "cell_type": "markdown",
   "metadata": {},
   "source": [
    "### Most Popular Social Media (FaceBook - Clustring)"
   ]
  },
  {
   "cell_type": "code",
   "execution_count": 331,
   "metadata": {},
   "outputs": [
    {
     "data": {
      "image/png": "[encoded data removed]",
      "text/plain": [
       "<Figure size 576x432 with 1 Axes>"
      ]
     },
     "metadata": {
      "needs_background": "light"
     },
     "output_type": "display_data"
    }
   ],
   "source": [
    "plt.figure(figsize=(8,6))\n",
    "plt.title(\"\\nCustomer Using FB \\n\",fontsize=18)\n",
    "sns.countplot(x=combinedDf['B8.1(fb)'],order=combinedDf['B8.1(fb)'].value_counts().index,hue=combinedDf['cluster_predicted'],palette=[\"#153e90\",'#54e346'])\n",
    "plt.show()"
   ]
  },
  {
   "cell_type": "markdown",
   "metadata": {},
   "source": [
    "### Most Popular Social Media (Instagram - Clustring)"
   ]
  },
  {
   "cell_type": "code",
   "execution_count": 357,
   "metadata": {},
   "outputs": [
    {
     "data": {
      "image/png": "[encoded data removed]",
      "text/plain": [
       "<Figure size 576x432 with 1 Axes>"
      ]
     },
     "metadata": {
      "needs_background": "light"
     },
     "output_type": "display_data"
    }
   ],
   "source": [
    "plt.figure(figsize=(8,6))\n",
    "plt.title(\"\\nCustomer Using FB \\n\",fontsize=18)\n",
    "sns.countplot(x=combinedDf['B8.2(Insta)'],order=combinedDf['B8.2(Insta)'].value_counts().index,hue=combinedDf['cluster_predicted'],palette=[\"#bedcfa\",'#98acf8'])\n",
    "plt.show()"
   ]
  },
  {
   "cell_type": "markdown",
   "metadata": {},
   "source": [
    "### Customer Mature Age Cluster"
   ]
  },
  {
   "cell_type": "code",
   "execution_count": 330,
   "metadata": {},
   "outputs": [
    {
     "data": {
      "image/png": "[encoded data removed]",
      "text/plain": [
       "<Figure size 576x432 with 1 Axes>"
      ]
     },
     "metadata": {
      "needs_background": "light"
     },
     "output_type": "display_data"
    }
   ],
   "source": [
    "plt.figure(figsize=(8,6))\n",
    "plt.title(\"\\nCustomer Age\\n\",fontsize=18)\n",
    "sns.countplot(x=combinedDf['M3.10(18+)'],order=combinedDf['M3.10(18+)'].value_counts().index,hue=combinedDf['cluster_predicted'],palette=['#ff4646','#ff8585'])\n",
    "plt.show()"
   ]
  },
  {
   "cell_type": "markdown",
   "metadata": {},
   "source": [
    "### Heat Map of the Correlation  and Clusters"
   ]
  },
  {
   "cell_type": "code",
   "execution_count": 355,
   "metadata": {},
   "outputs": [
    {
     "data": {
      "text/html": [
       "<div>\n",
       "<style scoped>\n",
       "    .dataframe tbody tr th:only-of-type {\n",
       "        vertical-align: middle;\n",
       "    }\n",
       "\n",
       "    .dataframe tbody tr th {\n",
       "        vertical-align: top;\n",
       "    }\n",
       "\n",
       "    .dataframe thead th {\n",
       "        text-align: right;\n",
       "    }\n",
       "</style>\n",
       "<table border=\"1\" class=\"dataframe\">\n",
       "  <thead>\n",
       "    <tr style=\"text-align: right;\">\n",
       "      <th></th>\n",
       "      <th>I1</th>\n",
       "      <th>J1</th>\n",
       "      <th>M2</th>\n",
       "      <th>clusters</th>\n",
       "    </tr>\n",
       "  </thead>\n",
       "  <tbody>\n",
       "    <tr>\n",
       "      <th>I1</th>\n",
       "      <td>1.000000</td>\n",
       "      <td>-0.005002</td>\n",
       "      <td>-0.069664</td>\n",
       "      <td>0.043255</td>\n",
       "    </tr>\n",
       "    <tr>\n",
       "      <th>J1</th>\n",
       "      <td>-0.005002</td>\n",
       "      <td>1.000000</td>\n",
       "      <td>0.063352</td>\n",
       "      <td>-0.100635</td>\n",
       "    </tr>\n",
       "    <tr>\n",
       "      <th>M2</th>\n",
       "      <td>-0.069664</td>\n",
       "      <td>0.063352</td>\n",
       "      <td>1.000000</td>\n",
       "      <td>0.028262</td>\n",
       "    </tr>\n",
       "    <tr>\n",
       "      <th>clusters</th>\n",
       "      <td>0.043255</td>\n",
       "      <td>-0.100635</td>\n",
       "      <td>0.028262</td>\n",
       "      <td>1.000000</td>\n",
       "    </tr>\n",
       "  </tbody>\n",
       "</table>\n",
       "</div>"
      ],
      "text/plain": [
       "                I1        J1        M2  clusters\n",
       "I1        1.000000 -0.005002 -0.069664  0.043255\n",
       "J1       -0.005002  1.000000  0.063352 -0.100635\n",
       "M2       -0.069664  0.063352  1.000000  0.028262\n",
       "clusters  0.043255 -0.100635  0.028262  1.000000"
      ]
     },
     "execution_count": 355,
     "metadata": {},
     "output_type": "execute_result"
    }
   ],
   "source": [
    "corr=data.corr()\n",
    "corr"
   ]
  },
  {
   "cell_type": "code",
   "execution_count": 353,
   "metadata": {},
   "outputs": [
    {
     "data": {
      "text/plain": [
       "<matplotlib.image.AxesImage at 0x1fd8fbe69c8>"
      ]
     },
     "execution_count": 353,
     "metadata": {},
     "output_type": "execute_result"
    },
    {
     "data": {
      "image/png": "[encoded data removed]",
      "text/plain": [
       "<Figure size 432x288 with 1 Axes>"
      ]
     },
     "metadata": {
      "needs_background": "light"
     },
     "output_type": "display_data"
    }
   ],
   "source": [
    "plt.imshow(corr, cmap='hot',interpolation=\"nearest\")"
   ]
  },
  {
   "cell_type": "markdown",
   "metadata": {},
   "source": [
    "# Conclusion \n",
    "----------------------\n",
    "  - Most of the CLuster can be found in this dataset but have extracted the meaning full cluster\n",
    "    customer level and customer channel found from dataset.The K-mode cluster used which is the most popular than K-mean"
   ]
  },
  {
   "cell_type": "code",
   "execution_count": null,
   "metadata": {},
   "outputs": [],
   "source": []
  },
  {
   "cell_type": "code",
   "execution_count": null,
   "metadata": {},
   "outputs": [],
   "source": []
  }
 ],
 "metadata": {
  "kernelspec": {
   "display_name": "Python 3",
   "language": "python",
   "name": "python3"
  },
  "language_info": {
   "codemirror_mode": {
    "name": "ipython",
    "version": 3
   },
   "file_extension": ".py",
   "mimetype": "text/x-python",
   "name": "python",
   "nbconvert_exporter": "python",
   "pygments_lexer": "ipython3",
   "version": "3.7.6"
  }
 },
 "nbformat": 4,
 "nbformat_minor": 4
}
