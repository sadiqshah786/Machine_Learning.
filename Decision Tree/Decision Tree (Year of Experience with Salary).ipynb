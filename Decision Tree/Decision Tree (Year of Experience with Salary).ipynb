{
 "cells": [
  {
   "cell_type": "code",
   "execution_count": 2,
   "metadata": {},
   "outputs": [],
   "source": [
    "import numpy as np\n",
    "import pandas as pd\n",
    "import matplotlib.pyplot as plt\n",
    "import tensorflow as tf\n",
    "from sklearn.tree import DecisionTreeRegressor"
   ]
  },
  {
   "cell_type": "code",
   "execution_count": 30,
   "metadata": {},
   "outputs": [],
   "source": [
    "data=pd.read_csv('D:\\PIAIC DOC\\Q2\\Machine Learning\\YouTube-ML\\MY PRACTICE\\machine learning\\Decision Tree\\DataSets\\\\salaryData.csv')"
   ]
  },
  {
   "cell_type": "markdown",
   "metadata": {},
   "source": [
    "#  Split into Input and Output"
   ]
  },
  {
   "cell_type": "code",
   "execution_count": 4,
   "metadata": {},
   "outputs": [],
   "source": [
    "Input=data.iloc[: , 0].values.reshape(-1,1)\n",
    "Output=data.iloc[: , 1].values.reshape(-1,1)\n"
   ]
  },
  {
   "cell_type": "markdown",
   "metadata": {},
   "source": [
    "# Regressor Model"
   ]
  },
  {
   "cell_type": "code",
   "execution_count": 5,
   "metadata": {},
   "outputs": [],
   "source": [
    "DTR=DecisionTreeRegressor()"
   ]
  },
  {
   "cell_type": "markdown",
   "metadata": {},
   "source": [
    "# Training a model"
   ]
  },
  {
   "cell_type": "code",
   "execution_count": 6,
   "metadata": {},
   "outputs": [
    {
     "data": {
      "text/plain": [
       "DecisionTreeRegressor(criterion='mse', max_depth=None, max_features=None,\n",
       "                      max_leaf_nodes=None, min_impurity_decrease=0.0,\n",
       "                      min_impurity_split=None, min_samples_leaf=1,\n",
       "                      min_samples_split=2, min_weight_fraction_leaf=0.0,\n",
       "                      presort=False, random_state=None, splitter='best')"
      ]
     },
     "execution_count": 6,
     "metadata": {},
     "output_type": "execute_result"
    }
   ],
   "source": [
    "DTR.fit(Input,Output)"
   ]
  },
  {
   "cell_type": "markdown",
   "metadata": {},
   "source": [
    "# Accuracy of the Model"
   ]
  },
  {
   "cell_type": "code",
   "execution_count": 11,
   "metadata": {},
   "outputs": [
    {
     "name": "stdout",
     "output_type": "stream",
     "text": [
      "Accurary of the Model :  99.76748641432847 %\n"
     ]
    }
   ],
   "source": [
    "Acc=DTR.score(Input,Output)*100\n",
    "print(\"Accurary of the Model : \" ,Acc,\"%\")"
   ]
  },
  {
   "cell_type": "markdown",
   "metadata": {},
   "source": [
    "# Extracting Minimum and Maximum Values"
   ]
  },
  {
   "cell_type": "code",
   "execution_count": 28,
   "metadata": {},
   "outputs": [],
   "source": [
    "X_grid=np.arange(min(Input),max(Input) , 0.01)  #<---For accurary\n",
    "X_grid=X_grid.reshape((len(X_grid) , 1))\n"
   ]
  },
  {
   "cell_type": "markdown",
   "metadata": {},
   "source": [
    "# Visualization By Graph of Decision Tree"
   ]
  },
  {
   "cell_type": "code",
   "execution_count": 29,
   "metadata": {},
   "outputs": [
    {
     "data": {
      "image/png": "[encoded data removed]",
      "text/plain": [
       "<Figure size 720x432 with 1 Axes>"
      ]
     },
     "metadata": {
      "needs_background": "light"
     },
     "output_type": "display_data"
    }
   ],
   "source": [
    "plt.figure(figsize=(10,6))\n",
    "plt.title(\"Salaries increase with the years of Experience\",fontsize=18)\n",
    "plt.xlabel(\"Years of Experience\",fontsize=15)\n",
    "plt.ylabel(\"Salary On Experience\",fontsize=15)\n",
    "plt.scatter(Input,Output,color='#29ab87')\n",
    "plt.plot(X_grid,DTR.predict(X_grid),color='lime')\n",
    "plt.show()"
   ]
  },
  {
   "cell_type": "markdown",
   "metadata": {},
   "source": [
    "# Prediction by Input of Year Of Experience values"
   ]
  },
  {
   "cell_type": "code",
   "execution_count": 9,
   "metadata": {},
   "outputs": [
    {
     "name": "stdout",
     "output_type": "stream",
     "text": [
      "----------------------------\n",
      "   Actual  Experice Values  \n",
      "----------------------------\n",
      "1.1 , 1.3 , 1.5 , 2.0 , 2.2 , 2.9 , 3.0 , 3.2 , 3.2 , 3.7 , 3.9 , 4.0 , 4.0 , 4.1 , 4.5 , 4.9 , 5.1 , 5.3 , 5.9 , 6.0 , 6.8 , 7.1 , 7.9 , 8.2 , 8.7 , 9.0 , 9.5 , 9.6 , 10.3 , 10.5 , \n",
      "--------------------\n",
      "Actual Salary Values\n",
      "--------------------\n",
      "39343.0 , 46205.0 , 37731.0 , 43525.0 , 39891.0 , 56642.0 , 60150.0 , 54445.0 , 64445.0 , 57189.0 , 63218.0 , 55794.0 , 56957.0 , 57081.0 , 61111.0 , 67938.0 , 66029.0 , 83088.0 , 81363.0 , 93940.0 , 91738.0 , 98273.0 , 101302.0 , 113812.0 , 109431.0 , 105582.0 , 116969.0 , 112635.0 , 122391.0 , 121872.0 , \n",
      "\n",
      "----------------------------------\n",
      "   Predict Input Experice Values  \n",
      "----------------------------------\n",
      "Enter an input values of Experience 1.1 to n : \n",
      "1.1\n",
      "----------------------------\n",
      "   Predicted Salary Values  \n",
      "----------------------------\n",
      "Predicted Value :  39343.0\n"
     ]
    }
   ],
   "source": [
    "print('----------------------------')\n",
    "print(\"   Actual  Experice Values  \")\n",
    "print('----------------------------')\n",
    "for i in Input:\n",
    "    for j in i:\n",
    "        print(j , end=' , ')\n",
    "\n",
    "print('\\n--------------------')\n",
    "print(\"Actual Salary Values\")\n",
    "print('--------------------')\n",
    "for i in Output:\n",
    "    for j in i:\n",
    "        print(j , end=' , ')\n",
    "\n",
    "print('\\n')\n",
    "        \n",
    "print('----------------------------------')\n",
    "print(\"   Predict Input Experice Values  \")\n",
    "print('----------------------------------')\n",
    "x=float(input(\"Enter an input values of Experience 1.1 to n : \\n\"))\n",
    "a=DTR.predict([[x]])\n",
    "print('----------------------------')\n",
    "print(\"   Predicted Salary Values  \")\n",
    "print('----------------------------')\n",
    "for i in a:\n",
    "    print(\"Predicted Value : \" ,i)\n",
    "    "
   ]
  },
  {
   "cell_type": "code",
   "execution_count": null,
   "metadata": {},
   "outputs": [],
   "source": []
  },
  {
   "cell_type": "code",
   "execution_count": null,
   "metadata": {},
   "outputs": [],
   "source": []
  },
  {
   "cell_type": "code",
   "execution_count": null,
   "metadata": {},
   "outputs": [],
   "source": []
  }
 ],
 "metadata": {
  "kernelspec": {
   "display_name": "Python 3",
   "language": "python",
   "name": "python3"
  },
  "language_info": {
   "codemirror_mode": {
    "name": "ipython",
    "version": 3
   },
   "file_extension": ".py",
   "mimetype": "text/x-python",
   "name": "python",
   "nbconvert_exporter": "python",
   "pygments_lexer": "ipython3",
   "version": "3.7.4"
  }
 },
 "nbformat": 4,
 "nbformat_minor": 2
}
