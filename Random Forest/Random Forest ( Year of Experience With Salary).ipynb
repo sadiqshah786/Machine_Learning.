{
 "cells": [
  {
   "cell_type": "code",
   "execution_count": 119,
   "metadata": {},
   "outputs": [],
   "source": [
    "import numpy as np\n",
    "import pandas as pd\n",
    "import matplotlib.pyplot as plt\n",
    "import tensorflow as tf\n",
    "from sklearn.ensemble import RandomForestRegressor"
   ]
  },
  {
   "cell_type": "code",
   "execution_count": 120,
   "metadata": {},
   "outputs": [],
   "source": [
    "data=pd.read_csv('D:\\PIAIC DOC\\Q2\\Machine Learning\\YouTube-ML\\DataSets\\salaryData.csv')"
   ]
  },
  {
   "cell_type": "markdown",
   "metadata": {},
   "source": [
    "# Splilt input and Output"
   ]
  },
  {
   "cell_type": "code",
   "execution_count": 121,
   "metadata": {},
   "outputs": [],
   "source": [
    "x=data.iloc[: , 0].values.reshape(-1,1)\n",
    "y=data.iloc[: , 1].values\n"
   ]
  },
  {
   "cell_type": "markdown",
   "metadata": {},
   "source": [
    "# Random Forest Regressor"
   ]
  },
  {
   "cell_type": "code",
   "execution_count": 122,
   "metadata": {},
   "outputs": [],
   "source": [
    "RFR=RandomForestRegressor(n_estimators=10)"
   ]
  },
  {
   "cell_type": "markdown",
   "metadata": {},
   "source": [
    "# Training a model"
   ]
  },
  {
   "cell_type": "code",
   "execution_count": 123,
   "metadata": {},
   "outputs": [
    {
     "data": {
      "text/plain": [
       "RandomForestRegressor(bootstrap=True, criterion='mse', max_depth=None,\n",
       "                      max_features='auto', max_leaf_nodes=None,\n",
       "                      min_impurity_decrease=0.0, min_impurity_split=None,\n",
       "                      min_samples_leaf=1, min_samples_split=2,\n",
       "                      min_weight_fraction_leaf=0.0, n_estimators=10,\n",
       "                      n_jobs=None, oob_score=False, random_state=None,\n",
       "                      verbose=0, warm_start=False)"
      ]
     },
     "execution_count": 123,
     "metadata": {},
     "output_type": "execute_result"
    }
   ],
   "source": [
    "RFR.fit(x,y)"
   ]
  },
  {
   "cell_type": "markdown",
   "metadata": {},
   "source": [
    "# Accuracy of a Model"
   ]
  },
  {
   "cell_type": "code",
   "execution_count": 124,
   "metadata": {},
   "outputs": [
    {
     "name": "stdout",
     "output_type": "stream",
     "text": [
      "Accurary of the Model :  99.04701317573975 %\n"
     ]
    }
   ],
   "source": [
    "Acc=RFR.score(x,y)*100\n",
    "print(\"Accurary of the Model : \" ,Acc,\"%\")"
   ]
  },
  {
   "cell_type": "markdown",
   "metadata": {},
   "source": [
    "# Extracting Minimum and Maximum Values"
   ]
  },
  {
   "cell_type": "code",
   "execution_count": 125,
   "metadata": {},
   "outputs": [],
   "source": [
    "x_grid=np.arange(min(x) , max(x) , 0.01)\n",
    "x_grid=x_grid.reshape(len(x_grid) , 1)"
   ]
  },
  {
   "cell_type": "code",
   "execution_count": 126,
   "metadata": {},
   "outputs": [
    {
     "data": {
      "text/plain": [
       "[<matplotlib.lines.Line2D at 0x2943e22d6c8>]"
      ]
     },
     "execution_count": 126,
     "metadata": {},
     "output_type": "execute_result"
    },
    {
     "data": {
      "image/png": "[encoded data removed]",
      "text/plain": [
       "<Figure size 864x432 with 1 Axes>"
      ]
     },
     "metadata": {
      "needs_background": "light"
     },
     "output_type": "display_data"
    }
   ],
   "source": [
    "plt.figure(figsize=(12,6))\n",
    "plt.title(\"Salary With year of experience\",fontsize=18)\n",
    "plt.xlabel(\"Experince of the Employess\",fontsize=15)\n",
    "plt.ylabel(\"Salary of the Employees\",fontsize=15)\n",
    "plt.scatter(x,y,color='#2278b1')\n",
    "plt.plot(x_grid,RFR.predict(x_grid),color='#e34755')"
   ]
  },
  {
   "cell_type": "markdown",
   "metadata": {},
   "source": [
    "# Prediction by Input of Experience of Employees values"
   ]
  },
  {
   "cell_type": "code",
   "execution_count": 127,
   "metadata": {},
   "outputs": [
    {
     "name": "stdout",
     "output_type": "stream",
     "text": [
      "----------------------------------\n",
      "   Actual Experience of the Employees Values  \n",
      "----------------------------------\n",
      "[1.1] ,[1.3] ,[1.5] ,[2.] ,[2.2] ,[2.9] ,[3.] ,[3.2] ,[3.2] ,[3.7] ,[3.9] ,[4.] ,[4.] ,[4.1] ,[4.5] ,[4.9] ,[5.1] ,[5.3] ,[5.9] ,[6.] ,[6.8] ,[7.1] ,[7.9] ,[8.2] ,[8.7] ,[9.] ,[9.5] ,[9.6] ,[10.3] ,[10.5] ,\n",
      "--------------------\n",
      "Actual Salary Values\n",
      "--------------------\n",
      "39343.0 ,46205.0 ,37731.0 ,43525.0 ,39891.0 ,56642.0 ,60150.0 ,54445.0 ,64445.0 ,57189.0 ,63218.0 ,55794.0 ,56957.0 ,57081.0 ,61111.0 ,67938.0 ,66029.0 ,83088.0 ,81363.0 ,93940.0 ,91738.0 ,98273.0 ,101302.0 ,113812.0 ,109431.0 ,105582.0 ,116969.0 ,112635.0 ,122391.0 ,121872.0 ,\n",
      "\n",
      "-----------------------------------------------------\n",
      "   Predict Input Experience of the Employees Values  \n",
      "-----------------------------------------------------\n",
      "Enter an input values of Experience of the Employees 1  to n : 6.5\n",
      "----------------------------\n",
      "   Predicted Salary Values  \n",
      "----------------------------\n",
      "Predicted Value :  93485.4\n"
     ]
    }
   ],
   "source": [
    "print('----------------------------------')\n",
    "print(\"   Actual Experience of the Employees Values  \")\n",
    "print('----------------------------------')\n",
    "for i in x:\n",
    "    for j in i:\n",
    "        print(i,end=' ,')\n",
    "print('\\n--------------------')\n",
    "print(\"Actual Salary Values\")\n",
    "print('--------------------')\n",
    "for i in y:\n",
    "    print(i,end=' ,')\n",
    "\n",
    "\n",
    "print('\\n')\n",
    "        \n",
    "print('-----------------------------------------------------')\n",
    "print(\"   Predict Input Experience of the Employees Values  \")\n",
    "print('-----------------------------------------------------')\n",
    "x=float(input(\"Enter an input values of Experience of the Employees 1  to n : \"))\n",
    "a=RFR.predict([[x]])\n",
    "print('----------------------------')\n",
    "print(\"   Predicted Salary Values  \")\n",
    "print('----------------------------')\n",
    "for i in a:\n",
    "    print(\"Predicted Value : \" ,i)\n",
    "    "
   ]
  },
  {
   "cell_type": "code",
   "execution_count": null,
   "metadata": {},
   "outputs": [],
   "source": []
  }
 ],
 "metadata": {
  "kernelspec": {
   "display_name": "Python 3",
   "language": "python",
   "name": "python3"
  },
  "language_info": {
   "codemirror_mode": {
    "name": "ipython",
    "version": 3
   },
   "file_extension": ".py",
   "mimetype": "text/x-python",
   "name": "python",
   "nbconvert_exporter": "python",
   "pygments_lexer": "ipython3",
   "version": "3.7.4"
  }
 },
 "nbformat": 4,
 "nbformat_minor": 2
}
